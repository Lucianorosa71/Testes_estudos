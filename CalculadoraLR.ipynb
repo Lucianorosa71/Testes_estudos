{
  "nbformat": 4,
  "nbformat_minor": 0,
  "metadata": {
    "colab": {
      "name": "Untitled1.ipynb",
      "provenance": [],
      "authorship_tag": "ABX9TyOl6AjVqKTf1pJD/Ae6HpuK",
      "include_colab_link": true
    },
    "kernelspec": {
      "name": "python3",
      "display_name": "Python 3"
    }
  },
  "cells": [
    {
      "cell_type": "markdown",
      "metadata": {
        "id": "view-in-github",
        "colab_type": "text"
      },
      "source": [
        "<a href=\"https://colab.research.google.com/github/lucianodinizrosa/lrosa/blob/master/CalculadoraLR.ipynb\" target=\"_parent\"><img src=\"https://colab.research.google.com/assets/colab-badge.svg\" alt=\"Open In Colab\"/></a>"
      ]
    },
    {
      "cell_type": "code",
      "metadata": {
        "colab": {
          "base_uri": "https://localhost:8080/"
        },
        "id": "WEScd3POjugc",
        "outputId": "fc745c02-c450-4182-83a3-5c6c10394b77"
      },
      "source": [
        "# Calculadora em Python\r\n",
        "\r\n",
        "print(\"\\n******************* Python Calculator *******************\")\r\n",
        "\r\n",
        "def add(x, y):\r\n",
        "\treturn x + y\r\n",
        "\r\n",
        "def subtract(x, y):\r\n",
        "\treturn x - y\r\n",
        "\r\n",
        "def multiply(x, y):\r\n",
        "\treturn x * y\r\n",
        "\r\n",
        "def divide(x, y):\r\n",
        "\treturn x / y\r\n",
        "\r\n",
        "print(\"\\nSelecione o número da operação desejada: \\n\")\r\n",
        "print(\"1 - Soma\")\r\n",
        "print(\"2 - Subtração\")\r\n",
        "print(\"3 - Multiplicação\")\r\n",
        "print(\"4 - Divisão\")\r\n",
        "\r\n",
        "escolha = input(\"\\nDigite sua opção (1/2/3/4): \")\r\n",
        "\r\n",
        "num1 = int(input(\"\\nDigite o primeiro número: \"))\r\n",
        "num2 = int(input(\"\\nDigite o segundo número: \"))\r\n",
        "\r\n",
        "if escolha == '1':\r\n",
        "\tprint(\"\\n\")\r\n",
        "\tprint(num1, \"+\", num2, \"=\", add(num1, num2))\r\n",
        "\tprint(\"\\n\")\r\n",
        "\r\n",
        "elif escolha == '2':\r\n",
        "\tprint(\"\\n\")\r\n",
        "\tprint(num1, \"-\", num2, \"=\", subtract(num1, num2))\r\n",
        "\tprint(\"\\n\")\r\n",
        "\r\n",
        "elif escolha == '3':\r\n",
        "\tprint(\"\\n\")\r\n",
        "\tprint(num1, \"*\", num2, \"=\", multiply(num1, num2))\r\n",
        "\tprint(\"\\n\")\r\n",
        "\r\n",
        "elif escolha == '4':\r\n",
        "\tprint(\"\\n\")\r\n",
        "\tprint(num1, \"/\", num2, \"=\", divide(num1, num2))\r\n",
        "\tprint(\"\\n\")\r\n",
        "\r\n",
        "else:\r\n",
        "\tprint(\"\\nOpção Inválida!\")\r\n",
        "\r\n",
        "\t\r\n",
        "\t"
      ],
      "execution_count": null,
      "outputs": [
        {
          "output_type": "stream",
          "text": [
            "\n",
            "******************* Python Calculator *******************\n",
            "\n",
            "Selecione o número da operação desejada: \n",
            "\n",
            "1 - Soma\n",
            "2 - Subtração\n",
            "3 - Multiplicação\n",
            "4 - Divisão\n"
          ],
          "name": "stdout"
        }
      ]
    },
    {
      "cell_type": "code",
      "metadata": {
        "id": "Sxm0A6BsjvWn"
      },
      "source": [
        ""
      ],
      "execution_count": null,
      "outputs": []
    }
  ]
}