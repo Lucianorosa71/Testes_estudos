{
  "nbformat": 4,
  "nbformat_minor": 0,
  "metadata": {
    "colab": {
      "name": "Untitled1.ipynb",
      "provenance": [],
      "authorship_tag": "ABX9TyOJRIysMfrnxefnF80ycJAY",
      "include_colab_link": true
    },
    "kernelspec": {
      "name": "python3",
      "display_name": "Python 3"
    }
  },
  "cells": [
    {
      "cell_type": "markdown",
      "metadata": {
        "id": "view-in-github",
        "colab_type": "text"
      },
      "source": [
        "<a href=\"https://colab.research.google.com/github/lucianodinizrosa/lrosa/blob/master/practice1.ipynb\" target=\"_parent\"><img src=\"https://colab.research.google.com/assets/colab-badge.svg\" alt=\"Open In Colab\"/></a>"
      ]
    },
    {
      "cell_type": "markdown",
      "metadata": {
        "id": "SgXafyNkDiuX",
        "colab_type": "text"
      },
      "source": [
        "# **Notebook LR sobre Python 15.06.2020**\n",
        "# variáveis e tipos de dados"
      ]
    },
    {
      "cell_type": "code",
      "metadata": {
        "id": "f1C959H6DuiH",
        "colab_type": "code",
        "colab": {
          "base_uri": "https://localhost:8080/",
          "height": 68
        },
        "outputId": "cc7ece63-d4f4-43b1-c0ea-7eb281d16c76"
      },
      "source": [
        "a = 5\n",
        "a == 3\n",
        "b = 7\n",
        "c = a + b\n",
        "print(c)\n",
        "variavel1 = 3\n",
        "variavel2 = 5\n",
        "variavel1 = 9\n",
        "print (variavel1)\n",
        "var1 = 4\n",
        "var2 = 3.5\n",
        "type(var2)\n",
        "palavra = (\"casa\")\n",
        "type(palavra)\n"
      ],
      "execution_count": 15,
      "outputs": [
        {
          "output_type": "stream",
          "text": [
            "12\n",
            "9\n"
          ],
          "name": "stdout"
        },
        {
          "output_type": "execute_result",
          "data": {
            "text/plain": [
              "str"
            ]
          },
          "metadata": {
            "tags": []
          },
          "execution_count": 15
        }
      ]
    },
    {
      "cell_type": "code",
      "metadata": {
        "id": "lHKGzW0JHaLM",
        "colab_type": "code",
        "colab": {
          "base_uri": "https://localhost:8080/",
          "height": 34
        },
        "outputId": "65aa2d1f-5518-4689-c84b-8e8bcf5767c6"
      },
      "source": [
        "print(var1 + var2)\n"
      ],
      "execution_count": 16,
      "outputs": [
        {
          "output_type": "stream",
          "text": [
            "7.5\n"
          ],
          "name": "stdout"
        }
      ]
    },
    {
      "cell_type": "markdown",
      "metadata": {
        "id": "nDBnai8NH6fm",
        "colab_type": "text"
      },
      "source": [
        "# input"
      ]
    },
    {
      "cell_type": "code",
      "metadata": {
        "id": "z1lgZEk-IBsq",
        "colab_type": "code",
        "colab": {
          "base_uri": "https://localhost:8080/",
          "height": 51
        },
        "outputId": "89e942da-b92f-4784-c537-a2b2b6e5c763"
      },
      "source": [
        "nome = input(\"qual seu nome?\")\n",
        "print(nome)"
      ],
      "execution_count": 20,
      "outputs": [
        {
          "output_type": "stream",
          "text": [
            "qual seu nome?JOAO\n",
            "JOAO\n"
          ],
          "name": "stdout"
        }
      ]
    },
    {
      "cell_type": "code",
      "metadata": {
        "id": "5sVlFl0LJrBm",
        "colab_type": "code",
        "colab": {
          "base_uri": "https://localhost:8080/",
          "height": 51
        },
        "outputId": "7c8224ef-f49a-424c-fe02-ca9df36553b3"
      },
      "source": [
        "idade = int(input(\"qual sua idade?\"))\n",
        "print(idade*3)"
      ],
      "execution_count": 22,
      "outputs": [
        {
          "output_type": "stream",
          "text": [
            "qual sua idade?18\n",
            "54\n"
          ],
          "name": "stdout"
        }
      ]
    }
  ]
}