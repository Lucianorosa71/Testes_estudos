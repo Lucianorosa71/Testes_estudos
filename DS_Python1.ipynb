{
  "nbformat": 4,
  "nbformat_minor": 0,
  "metadata": {
    "colab": {
      "name": "Python.ipynb",
      "provenance": [],
      "collapsed_sections": [
        "OsXbmwS6AaRj",
        "tyua9pyuAdhs",
        "Fj-evddFAtBh",
        "LWvi5D2YBEW5",
        "bSb2TRFbE_Np",
        "Ji0jj9XbPeDs",
        "N5AvccQmHj7Z",
        "5tajffzFIpBK",
        "_kjhvWyTJ1fn",
        "R9e-jAQFLzok",
        "4QglgIC9-8WR",
        "eFLrYaXx_CzW",
        "FikgDEDqVEzA",
        "MPzztjQwVIDc",
        "xu5LBvH_Jxbx",
        "2VkxwfdHWzoA",
        "rQmIY4KCYRbr"
      ],
      "machine_shape": "hm",
      "include_colab_link": true
    },
    "kernelspec": {
      "name": "python3",
      "display_name": "Python 3"
    }
  },
  "cells": [
    {
      "cell_type": "markdown",
      "metadata": {
        "id": "view-in-github",
        "colab_type": "text"
      },
      "source": [
        "<a href=\"https://colab.research.google.com/github/lucianodinizrosa/lrosa/blob/master/DS_Python1.ipynb\" target=\"_parent\"><img src=\"https://colab.research.google.com/assets/colab-badge.svg\" alt=\"Open In Colab\"/></a>"
      ]
    },
    {
      "cell_type": "markdown",
      "metadata": {
        "id": "hNTRXX_n2IJz",
        "colab_type": "text"
      },
      "source": [
        "# Variables & Code Style"
      ]
    },
    {
      "cell_type": "markdown",
      "metadata": {
        "id": "5baaMxO96rYF",
        "colab_type": "text"
      },
      "source": [
        "- [PEP 8 -- Style Guide for Python Code](https://www.python.org/dev/peps/pep-0008/#descriptive-naming-styles)"
      ]
    },
    {
      "cell_type": "code",
      "metadata": {
        "id": "oEf93Mak2MPG",
        "colab_type": "code",
        "colab": {}
      },
      "source": [
        "nome = 'felipe'"
      ],
      "execution_count": 0,
      "outputs": []
    },
    {
      "cell_type": "code",
      "metadata": {
        "id": "SHJHmW6C48OJ",
        "colab_type": "code",
        "colab": {}
      },
      "source": [
        "nome_completo = 'Felipe Brandao' # NomeCompleto nomeCompleto nomecompleto (snake case)"
      ],
      "execution_count": 0,
      "outputs": []
    },
    {
      "cell_type": "markdown",
      "metadata": {
        "id": "zPwgOF-n6yth",
        "colab_type": "text"
      },
      "source": [
        "# Data Types"
      ]
    },
    {
      "cell_type": "markdown",
      "metadata": {
        "id": "U6OfahpvQ8OC",
        "colab_type": "text"
      },
      "source": [
        "![img](https://miro.medium.com/max/1316/1*uFlTNY4W3czywyU18zxl8w.png)"
      ]
    },
    {
      "cell_type": "markdown",
      "metadata": {
        "id": "0SO7iHkm9_by",
        "colab_type": "text"
      },
      "source": [
        "## Tipos Primitivos\n",
        "Integer `int`, Float `float`, Boolean `bool` e String `str`"
      ]
    },
    {
      "cell_type": "markdown",
      "metadata": {
        "id": "rYpwKaqF_7aZ",
        "colab_type": "text"
      },
      "source": [
        "### Int `immutable`"
      ]
    },
    {
      "cell_type": "code",
      "metadata": {
        "id": "n8AsefD16zyI",
        "colab_type": "code",
        "colab": {}
      },
      "source": [
        "idade = 30"
      ],
      "execution_count": 0,
      "outputs": []
    },
    {
      "cell_type": "code",
      "metadata": {
        "id": "JTWCjnXi7F8Z",
        "colab_type": "code",
        "outputId": "76601820-0452-4e04-8dee-497ae2579a31",
        "colab": {
          "base_uri": "https://localhost:8080/",
          "height": 34
        }
      },
      "source": [
        "type(idade)"
      ],
      "execution_count": 0,
      "outputs": [
        {
          "output_type": "execute_result",
          "data": {
            "text/plain": [
              "int"
            ]
          },
          "metadata": {
            "tags": []
          },
          "execution_count": 23
        }
      ]
    },
    {
      "cell_type": "markdown",
      "metadata": {
        "id": "ummjdS4eANDH",
        "colab_type": "text"
      },
      "source": [
        "### Float `immutable`"
      ]
    },
    {
      "cell_type": "code",
      "metadata": {
        "id": "xDqD1CKf7Z0q",
        "colab_type": "code",
        "colab": {}
      },
      "source": [
        "altura = 1.80"
      ],
      "execution_count": 0,
      "outputs": []
    },
    {
      "cell_type": "code",
      "metadata": {
        "id": "QLr2DYRC7cP2",
        "colab_type": "code",
        "outputId": "ad79180d-d917-4755-bfed-dcc50759212f",
        "colab": {
          "base_uri": "https://localhost:8080/",
          "height": 34
        }
      },
      "source": [
        "type(altura)"
      ],
      "execution_count": 0,
      "outputs": [
        {
          "output_type": "execute_result",
          "data": {
            "text/plain": [
              "float"
            ]
          },
          "metadata": {
            "tags": []
          },
          "execution_count": 25
        }
      ]
    },
    {
      "cell_type": "markdown",
      "metadata": {
        "id": "fBs4yOd7AS70",
        "colab_type": "text"
      },
      "source": [
        "### String `immutable`"
      ]
    },
    {
      "cell_type": "code",
      "metadata": {
        "id": "ebvqfbu37dLl",
        "colab_type": "code",
        "colab": {}
      },
      "source": [
        "nome = 'Joao'"
      ],
      "execution_count": 0,
      "outputs": []
    },
    {
      "cell_type": "code",
      "metadata": {
        "id": "4iZFomwh7ey-",
        "colab_type": "code",
        "outputId": "455c3e97-064c-419d-ca7b-c63fa01ac721",
        "colab": {
          "base_uri": "https://localhost:8080/",
          "height": 34
        }
      },
      "source": [
        "type(nome)"
      ],
      "execution_count": 0,
      "outputs": [
        {
          "output_type": "execute_result",
          "data": {
            "text/plain": [
              "str"
            ]
          },
          "metadata": {
            "tags": []
          },
          "execution_count": 27
        }
      ]
    },
    {
      "cell_type": "markdown",
      "metadata": {
        "id": "OsXbmwS6AaRj",
        "colab_type": "text"
      },
      "source": [
        "### None `immutable`"
      ]
    },
    {
      "cell_type": "code",
      "metadata": {
        "id": "HN4O2Ld79eUV",
        "colab_type": "code",
        "colab": {}
      },
      "source": [
        "nome_completo = None"
      ],
      "execution_count": 0,
      "outputs": []
    },
    {
      "cell_type": "code",
      "metadata": {
        "id": "_kcMyMGc9l1N",
        "colab_type": "code",
        "outputId": "7429f2e2-aa68-4ea0-abe7-0d608780f65b",
        "colab": {
          "base_uri": "https://localhost:8080/",
          "height": 34
        }
      },
      "source": [
        "type(nome_completo)"
      ],
      "execution_count": 0,
      "outputs": [
        {
          "output_type": "execute_result",
          "data": {
            "text/plain": [
              "NoneType"
            ]
          },
          "metadata": {
            "tags": []
          },
          "execution_count": 32
        }
      ]
    },
    {
      "cell_type": "markdown",
      "metadata": {
        "id": "tyua9pyuAdhs",
        "colab_type": "text"
      },
      "source": [
        "### Bool `immutable`"
      ]
    },
    {
      "cell_type": "code",
      "metadata": {
        "id": "sO1vNl5u9tFW",
        "colab_type": "code",
        "colab": {}
      },
      "source": [
        "esta_chovendo = False"
      ],
      "execution_count": 0,
      "outputs": []
    },
    {
      "cell_type": "code",
      "metadata": {
        "id": "wO0y8H1pRN5O",
        "colab_type": "code",
        "colab": {}
      },
      "source": [
        "nao_esta_chovendo = True"
      ],
      "execution_count": 0,
      "outputs": []
    },
    {
      "cell_type": "markdown",
      "metadata": {
        "id": "QY620mgi-CEp",
        "colab_type": "text"
      },
      "source": [
        "## Tipos Avançados\n",
        "Listas `list`, Tuplas `tuple`, Dicionários `dict` e Conjuntos `set`"
      ]
    },
    {
      "cell_type": "markdown",
      "metadata": {
        "id": "Fj-evddFAtBh",
        "colab_type": "text"
      },
      "source": [
        "### Lists `mutable`"
      ]
    },
    {
      "cell_type": "code",
      "metadata": {
        "id": "DWnHyvlO-DV2",
        "colab_type": "code",
        "colab": {}
      },
      "source": [
        "lista = [7, 4, 8]"
      ],
      "execution_count": 0,
      "outputs": []
    },
    {
      "cell_type": "code",
      "metadata": {
        "id": "cUMhN0tE-H_6",
        "colab_type": "code",
        "outputId": "67714f6e-0ef7-43af-831e-66ebeaf69a75",
        "colab": {
          "base_uri": "https://localhost:8080/",
          "height": 34
        }
      },
      "source": [
        "type(lista)"
      ],
      "execution_count": 0,
      "outputs": [
        {
          "output_type": "execute_result",
          "data": {
            "text/plain": [
              "list"
            ]
          },
          "metadata": {
            "tags": []
          },
          "execution_count": 74
        }
      ]
    },
    {
      "cell_type": "code",
      "metadata": {
        "id": "SF8HPJLHC49z",
        "colab_type": "code",
        "outputId": "e178540b-b484-426b-aba5-470fdaa5bd29",
        "colab": {
          "base_uri": "https://localhost:8080/",
          "height": 34
        }
      },
      "source": [
        "lista[2] # Indexing"
      ],
      "execution_count": 0,
      "outputs": [
        {
          "output_type": "execute_result",
          "data": {
            "text/plain": [
              "8"
            ]
          },
          "metadata": {
            "tags": []
          },
          "execution_count": 92
        }
      ]
    },
    {
      "cell_type": "code",
      "metadata": {
        "id": "NJUE2oB2DNto",
        "colab_type": "code",
        "outputId": "28edc67a-6e31-4cdf-ecf0-605c915d6cd7",
        "colab": {
          "base_uri": "https://localhost:8080/",
          "height": 164
        }
      },
      "source": [
        "lista[3]"
      ],
      "execution_count": 0,
      "outputs": [
        {
          "output_type": "error",
          "ename": "IndexError",
          "evalue": "ignored",
          "traceback": [
            "\u001b[0;31m---------------------------------------------------------------------------\u001b[0m",
            "\u001b[0;31mIndexError\u001b[0m                                Traceback (most recent call last)",
            "\u001b[0;32m<ipython-input-93-34a960744870>\u001b[0m in \u001b[0;36m<module>\u001b[0;34m()\u001b[0m\n\u001b[0;32m----> 1\u001b[0;31m \u001b[0mlista\u001b[0m\u001b[0;34m[\u001b[0m\u001b[0;36m3\u001b[0m\u001b[0;34m]\u001b[0m\u001b[0;34m\u001b[0m\u001b[0;34m\u001b[0m\u001b[0m\n\u001b[0m",
            "\u001b[0;31mIndexError\u001b[0m: list index out of range"
          ]
        }
      ]
    },
    {
      "cell_type": "code",
      "metadata": {
        "id": "aUPqh-je_uMm",
        "colab_type": "code",
        "colab": {}
      },
      "source": [
        "lista.append(2)"
      ],
      "execution_count": 0,
      "outputs": []
    },
    {
      "cell_type": "code",
      "metadata": {
        "id": "qRHJtKz7Bv9Z",
        "colab_type": "code",
        "outputId": "2e3db510-37ce-443a-eb0b-846215377ec6",
        "colab": {
          "base_uri": "https://localhost:8080/",
          "height": 34
        }
      },
      "source": [
        "lista"
      ],
      "execution_count": 0,
      "outputs": [
        {
          "output_type": "execute_result",
          "data": {
            "text/plain": [
              "[7, 4, 8, 2]"
            ]
          },
          "metadata": {
            "tags": []
          },
          "execution_count": 76
        }
      ]
    },
    {
      "cell_type": "code",
      "metadata": {
        "id": "y75dG_QyBrMi",
        "colab_type": "code",
        "outputId": "a8018147-8682-4ab2-d8ea-6fd4a570716b",
        "colab": {
          "base_uri": "https://localhost:8080/",
          "height": 34
        }
      },
      "source": [
        "lista.pop()"
      ],
      "execution_count": 0,
      "outputs": [
        {
          "output_type": "execute_result",
          "data": {
            "text/plain": [
              "2"
            ]
          },
          "metadata": {
            "tags": []
          },
          "execution_count": 77
        }
      ]
    },
    {
      "cell_type": "code",
      "metadata": {
        "id": "xxcra2M7B0lU",
        "colab_type": "code",
        "outputId": "293c9095-9423-4d44-b9cb-c44405f8e1bd",
        "colab": {
          "base_uri": "https://localhost:8080/",
          "height": 34
        }
      },
      "source": [
        "lista"
      ],
      "execution_count": 0,
      "outputs": [
        {
          "output_type": "execute_result",
          "data": {
            "text/plain": [
              "[7, 4, 8]"
            ]
          },
          "metadata": {
            "tags": []
          },
          "execution_count": 78
        }
      ]
    },
    {
      "cell_type": "markdown",
      "metadata": {
        "id": "LWvi5D2YBEW5",
        "colab_type": "text"
      },
      "source": [
        "### Tuple `immutable`"
      ]
    },
    {
      "cell_type": "code",
      "metadata": {
        "id": "_Wdzl_pi-JKV",
        "colab_type": "code",
        "colab": {}
      },
      "source": [
        "tupla = (3, 4, 5)"
      ],
      "execution_count": 0,
      "outputs": []
    },
    {
      "cell_type": "code",
      "metadata": {
        "id": "CDOMJP84COfY",
        "colab_type": "code",
        "outputId": "c850cfc0-2306-49e8-d6f8-ecc9e58d0ca7",
        "colab": {
          "base_uri": "https://localhost:8080/",
          "height": 34
        }
      },
      "source": [
        "type(tupla)"
      ],
      "execution_count": 0,
      "outputs": [
        {
          "output_type": "execute_result",
          "data": {
            "text/plain": [
              "tuple"
            ]
          },
          "metadata": {
            "tags": []
          },
          "execution_count": 82
        }
      ]
    },
    {
      "cell_type": "markdown",
      "metadata": {
        "id": "vqH41ZbdCavN",
        "colab_type": "text"
      },
      "source": [
        "### Dictionaries `mutable`"
      ]
    },
    {
      "cell_type": "code",
      "metadata": {
        "id": "isAbSizjCZI1",
        "colab_type": "code",
        "colab": {}
      },
      "source": [
        "dicionario = {'nome': 'felipe'}"
      ],
      "execution_count": 0,
      "outputs": []
    },
    {
      "cell_type": "code",
      "metadata": {
        "id": "yA8CsJ0QCr4Q",
        "colab_type": "code",
        "outputId": "3cc85f19-2c12-44f7-8625-a44bf7d104b5",
        "colab": {
          "base_uri": "https://localhost:8080/",
          "height": 34
        }
      },
      "source": [
        "dicionario['nome']"
      ],
      "execution_count": 0,
      "outputs": [
        {
          "output_type": "execute_result",
          "data": {
            "text/plain": [
              "'felipe'"
            ]
          },
          "metadata": {
            "tags": []
          },
          "execution_count": 85
        }
      ]
    },
    {
      "cell_type": "code",
      "metadata": {
        "id": "WLjnwK-4Dbkq",
        "colab_type": "code",
        "outputId": "02948316-40ad-4621-c55e-79061cd55be7",
        "colab": {
          "base_uri": "https://localhost:8080/",
          "height": 164
        }
      },
      "source": [
        "dicionario['nome_completo']"
      ],
      "execution_count": 0,
      "outputs": [
        {
          "output_type": "error",
          "ename": "KeyError",
          "evalue": "ignored",
          "traceback": [
            "\u001b[0;31m---------------------------------------------------------------------------\u001b[0m",
            "\u001b[0;31mKeyError\u001b[0m                                  Traceback (most recent call last)",
            "\u001b[0;32m<ipython-input-94-c1f86cb47222>\u001b[0m in \u001b[0;36m<module>\u001b[0;34m()\u001b[0m\n\u001b[0;32m----> 1\u001b[0;31m \u001b[0mdicionario\u001b[0m\u001b[0;34m[\u001b[0m\u001b[0;34m'nome_completo'\u001b[0m\u001b[0;34m]\u001b[0m\u001b[0;34m\u001b[0m\u001b[0;34m\u001b[0m\u001b[0m\n\u001b[0m",
            "\u001b[0;31mKeyError\u001b[0m: 'nome_completo'"
          ]
        }
      ]
    },
    {
      "cell_type": "markdown",
      "metadata": {
        "id": "wWhRI-DdD_ad",
        "colab_type": "text"
      },
      "source": [
        "#### `Exemplo 1:` Mapear Elementos de uma lista usando um dicionários"
      ]
    },
    {
      "cell_type": "code",
      "metadata": {
        "id": "hGpwdpIsDiL5",
        "colab_type": "code",
        "colab": {}
      },
      "source": [
        "lista_paises = [1, 2, 3, 1, 2, 1]"
      ],
      "execution_count": 0,
      "outputs": []
    },
    {
      "cell_type": "code",
      "metadata": {
        "id": "uFa7DBa3EJWp",
        "colab_type": "code",
        "colab": {}
      },
      "source": [
        "mapeamento = {\n",
        "    1: 'Brasil',\n",
        "    2: 'Argentina',\n",
        "    3: 'Estados Unidos'\n",
        "}"
      ],
      "execution_count": 0,
      "outputs": []
    },
    {
      "cell_type": "code",
      "metadata": {
        "id": "I9YnMGw_EnMx",
        "colab_type": "code",
        "outputId": "3e335312-52a0-4f12-8e02-46ab75d03d55",
        "colab": {
          "base_uri": "https://localhost:8080/",
          "height": 34
        }
      },
      "source": [
        "mapeamento[lista_paises[0]]"
      ],
      "execution_count": 0,
      "outputs": [
        {
          "output_type": "execute_result",
          "data": {
            "text/plain": [
              "'Brasil'"
            ]
          },
          "metadata": {
            "tags": []
          },
          "execution_count": 265
        }
      ]
    },
    {
      "cell_type": "markdown",
      "metadata": {
        "id": "tsdXbBA8kIvi",
        "colab_type": "text"
      },
      "source": [
        "### Sets `set`"
      ]
    },
    {
      "cell_type": "code",
      "metadata": {
        "id": "Ok3nlklLkLw-",
        "colab_type": "code",
        "colab": {}
      },
      "source": [
        "a = {5, 6, 4}"
      ],
      "execution_count": 0,
      "outputs": []
    },
    {
      "cell_type": "code",
      "metadata": {
        "id": "xFrPLaGLkgDp",
        "colab_type": "code",
        "outputId": "d6b2a715-a4d8-44b1-c990-a20635de6022",
        "colab": {
          "base_uri": "https://localhost:8080/",
          "height": 34
        }
      },
      "source": [
        "type(a)"
      ],
      "execution_count": 0,
      "outputs": [
        {
          "output_type": "execute_result",
          "data": {
            "text/plain": [
              "set"
            ]
          },
          "metadata": {
            "tags": []
          },
          "execution_count": 301
        }
      ]
    },
    {
      "cell_type": "markdown",
      "metadata": {
        "id": "bSb2TRFbE_Np",
        "colab_type": "text"
      },
      "source": [
        "# Operators"
      ]
    },
    {
      "cell_type": "markdown",
      "metadata": {
        "id": "DNLjzXVNFX6g",
        "colab_type": "text"
      },
      "source": [
        "### Arithmetics"
      ]
    },
    {
      "cell_type": "code",
      "metadata": {
        "id": "_I7zGSvwFGDP",
        "colab_type": "code",
        "outputId": "f1720a40-7dc7-4d0d-d249-5afd5e7a0d05",
        "colab": {
          "base_uri": "https://localhost:8080/",
          "height": 34
        }
      },
      "source": [
        "3 + 4 # Soma (float, int)"
      ],
      "execution_count": 0,
      "outputs": [
        {
          "output_type": "execute_result",
          "data": {
            "text/plain": [
              "7"
            ]
          },
          "metadata": {
            "tags": []
          },
          "execution_count": 104
        }
      ]
    },
    {
      "cell_type": "code",
      "metadata": {
        "id": "bD6UjUr-Fab1",
        "colab_type": "code",
        "outputId": "f66cb54c-7582-4168-b1ed-266f7c245ea0",
        "colab": {
          "base_uri": "https://localhost:8080/",
          "height": 34
        }
      },
      "source": [
        "3 - 4 # Substração (float, int)"
      ],
      "execution_count": 0,
      "outputs": [
        {
          "output_type": "execute_result",
          "data": {
            "text/plain": [
              "-1"
            ]
          },
          "metadata": {
            "tags": []
          },
          "execution_count": 105
        }
      ]
    },
    {
      "cell_type": "code",
      "metadata": {
        "id": "qrB7TxagFbAo",
        "colab_type": "code",
        "outputId": "bab869ab-3e42-409a-92e8-df664be3d98b",
        "colab": {
          "base_uri": "https://localhost:8080/",
          "height": 34
        }
      },
      "source": [
        "3 / 4 # Divisão (float, int)"
      ],
      "execution_count": 0,
      "outputs": [
        {
          "output_type": "execute_result",
          "data": {
            "text/plain": [
              "0.75"
            ]
          },
          "metadata": {
            "tags": []
          },
          "execution_count": 106
        }
      ]
    },
    {
      "cell_type": "code",
      "metadata": {
        "id": "Q7GcICfyFbrB",
        "colab_type": "code",
        "outputId": "9d7865f3-c0c0-4eaf-a42c-43f793a3c7e1",
        "colab": {
          "base_uri": "https://localhost:8080/",
          "height": 34
        }
      },
      "source": [
        "3 * 4 * 7  # Multiplicação (float, int)"
      ],
      "execution_count": 0,
      "outputs": [
        {
          "output_type": "execute_result",
          "data": {
            "text/plain": [
              "84"
            ]
          },
          "metadata": {
            "tags": []
          },
          "execution_count": 258
        }
      ]
    },
    {
      "cell_type": "code",
      "metadata": {
        "id": "MvTgKziJFwkf",
        "colab_type": "code",
        "outputId": "305a2875-66d2-4ebc-b70d-9249308dab3e",
        "colab": {
          "base_uri": "https://localhost:8080/",
          "height": 34
        }
      },
      "source": [
        "'felipe' + 'brandao' # Concatenação (str)"
      ],
      "execution_count": 0,
      "outputs": [
        {
          "output_type": "execute_result",
          "data": {
            "text/plain": [
              "'felipebrandao'"
            ]
          },
          "metadata": {
            "tags": []
          },
          "execution_count": 111
        }
      ]
    },
    {
      "cell_type": "code",
      "metadata": {
        "id": "Oo7bu9tObbP1",
        "colab_type": "code",
        "outputId": "cc16771d-7b27-4910-a107-2e1336191859",
        "colab": {
          "base_uri": "https://localhost:8080/",
          "height": 34
        }
      },
      "source": [
        "'felipe' + ' ' + 'brandao'"
      ],
      "execution_count": 0,
      "outputs": [
        {
          "output_type": "execute_result",
          "data": {
            "text/plain": [
              "'felipe brandao'"
            ]
          },
          "metadata": {
            "tags": []
          },
          "execution_count": 257
        }
      ]
    },
    {
      "cell_type": "code",
      "metadata": {
        "id": "6GXZzivaGFdU",
        "colab_type": "code",
        "outputId": "5dd188a8-0524-41b3-a214-3942b242bbc9",
        "colab": {
          "base_uri": "https://localhost:8080/",
          "height": 164
        }
      },
      "source": [
        "'felipe' - 'brandao' # Não faz sentido (str)"
      ],
      "execution_count": 0,
      "outputs": [
        {
          "output_type": "error",
          "ename": "TypeError",
          "evalue": "ignored",
          "traceback": [
            "\u001b[0;31m---------------------------------------------------------------------------\u001b[0m",
            "\u001b[0;31mTypeError\u001b[0m                                 Traceback (most recent call last)",
            "\u001b[0;32m<ipython-input-113-76420a8e41f8>\u001b[0m in \u001b[0;36m<module>\u001b[0;34m()\u001b[0m\n\u001b[0;32m----> 1\u001b[0;31m \u001b[0;34m'felipe'\u001b[0m \u001b[0;34m-\u001b[0m \u001b[0;34m'brandao'\u001b[0m \u001b[0;31m# Não faz sentido (str)\u001b[0m\u001b[0;34m\u001b[0m\u001b[0;34m\u001b[0m\u001b[0m\n\u001b[0m",
            "\u001b[0;31mTypeError\u001b[0m: unsupported operand type(s) for -: 'str' and 'str'"
          ]
        }
      ]
    },
    {
      "cell_type": "code",
      "metadata": {
        "id": "v5LA_Z4oGZnv",
        "colab_type": "code",
        "outputId": "5f963a05-c90c-4cf3-f4c5-d5b9d40a89d4",
        "colab": {
          "base_uri": "https://localhost:8080/",
          "height": 164
        }
      },
      "source": [
        "'felipe' * 'brandao' # Não faz sentido (str e str)"
      ],
      "execution_count": 0,
      "outputs": [
        {
          "output_type": "error",
          "ename": "TypeError",
          "evalue": "ignored",
          "traceback": [
            "\u001b[0;31m---------------------------------------------------------------------------\u001b[0m",
            "\u001b[0;31mTypeError\u001b[0m                                 Traceback (most recent call last)",
            "\u001b[0;32m<ipython-input-114-6382527aa786>\u001b[0m in \u001b[0;36m<module>\u001b[0;34m()\u001b[0m\n\u001b[0;32m----> 1\u001b[0;31m \u001b[0;34m'felipe'\u001b[0m \u001b[0;34m*\u001b[0m \u001b[0;34m'brandao'\u001b[0m\u001b[0;34m\u001b[0m\u001b[0;34m\u001b[0m\u001b[0m\n\u001b[0m",
            "\u001b[0;31mTypeError\u001b[0m: can't multiply sequence by non-int of type 'str'"
          ]
        }
      ]
    },
    {
      "cell_type": "code",
      "metadata": {
        "id": "5jimbkEYGpcg",
        "colab_type": "code",
        "outputId": "6e30f91c-4d5b-4daf-cf06-f15db0842176",
        "colab": {
          "base_uri": "https://localhost:8080/",
          "height": 34
        }
      },
      "source": [
        "'felipe' * 8 # Repetição (str e int)"
      ],
      "execution_count": 0,
      "outputs": [
        {
          "output_type": "execute_result",
          "data": {
            "text/plain": [
              "'felipefelipefelipefelipefelipefelipefelipefelipe'"
            ]
          },
          "metadata": {
            "tags": []
          },
          "execution_count": 115
        }
      ]
    },
    {
      "cell_type": "code",
      "metadata": {
        "id": "JvY-LLHpGxHM",
        "colab_type": "code",
        "outputId": "88088cbc-25f8-4dbf-f888-fe062ec5c241",
        "colab": {
          "base_uri": "https://localhost:8080/",
          "height": 164
        }
      },
      "source": [
        "'felipe' * 8.9 # Não faz sentido (str e float)"
      ],
      "execution_count": 0,
      "outputs": [
        {
          "output_type": "error",
          "ename": "TypeError",
          "evalue": "ignored",
          "traceback": [
            "\u001b[0;31m---------------------------------------------------------------------------\u001b[0m",
            "\u001b[0;31mTypeError\u001b[0m                                 Traceback (most recent call last)",
            "\u001b[0;32m<ipython-input-116-d567461304c2>\u001b[0m in \u001b[0;36m<module>\u001b[0;34m()\u001b[0m\n\u001b[0;32m----> 1\u001b[0;31m \u001b[0;34m'felipe'\u001b[0m \u001b[0;34m*\u001b[0m \u001b[0;36m8.9\u001b[0m\u001b[0;34m\u001b[0m\u001b[0;34m\u001b[0m\u001b[0m\n\u001b[0m",
            "\u001b[0;31mTypeError\u001b[0m: can't multiply sequence by non-int of type 'float'"
          ]
        }
      ]
    },
    {
      "cell_type": "markdown",
      "metadata": {
        "id": "Ji0jj9XbPeDs",
        "colab_type": "text"
      },
      "source": [
        "#### `Exercício 2:` Operadores aritméticos para dics, tuples e lists"
      ]
    },
    {
      "cell_type": "code",
      "metadata": {
        "id": "0f8gUFm8PEn3",
        "colab_type": "code",
        "colab": {}
      },
      "source": [
        ""
      ],
      "execution_count": 0,
      "outputs": []
    },
    {
      "cell_type": "markdown",
      "metadata": {
        "id": "N5AvccQmHj7Z",
        "colab_type": "text"
      },
      "source": [
        "### Comparison"
      ]
    },
    {
      "cell_type": "code",
      "metadata": {
        "id": "zvdhagmbHjGR",
        "colab_type": "code",
        "outputId": "6e76c1fd-4d46-43b8-9db9-2b723c9f42c6",
        "colab": {
          "base_uri": "https://localhost:8080/",
          "height": 34
        }
      },
      "source": [
        "3 > 4 # (float, int)"
      ],
      "execution_count": 0,
      "outputs": [
        {
          "output_type": "execute_result",
          "data": {
            "text/plain": [
              "False"
            ]
          },
          "metadata": {
            "tags": []
          },
          "execution_count": 123
        }
      ]
    },
    {
      "cell_type": "code",
      "metadata": {
        "id": "bXy1rkaAHmve",
        "colab_type": "code",
        "outputId": "c0e8dae2-53ca-43b0-c8a2-22b509f99e35",
        "colab": {
          "base_uri": "https://localhost:8080/",
          "height": 34
        }
      },
      "source": [
        "'w' > 'c' # (str)"
      ],
      "execution_count": 0,
      "outputs": [
        {
          "output_type": "execute_result",
          "data": {
            "text/plain": [
              "True"
            ]
          },
          "metadata": {
            "tags": []
          },
          "execution_count": 130
        }
      ]
    },
    {
      "cell_type": "code",
      "metadata": {
        "id": "Ww2he_LIIJ9q",
        "colab_type": "code",
        "outputId": "4ae4f4ea-de29-483b-8247-6733e711d7e5",
        "colab": {
          "base_uri": "https://localhost:8080/",
          "height": 34
        }
      },
      "source": [
        "3 < 4"
      ],
      "execution_count": 0,
      "outputs": [
        {
          "output_type": "execute_result",
          "data": {
            "text/plain": [
              "True"
            ]
          },
          "metadata": {
            "tags": []
          },
          "execution_count": 131
        }
      ]
    },
    {
      "cell_type": "code",
      "metadata": {
        "id": "DFzVijXzIP3C",
        "colab_type": "code",
        "outputId": "ad1397b4-b95e-41a9-dfa1-524d75c9dd2f",
        "colab": {
          "base_uri": "https://localhost:8080/",
          "height": 34
        }
      },
      "source": [
        "3 >= 2"
      ],
      "execution_count": 0,
      "outputs": [
        {
          "output_type": "execute_result",
          "data": {
            "text/plain": [
              "True"
            ]
          },
          "metadata": {
            "tags": []
          },
          "execution_count": 133
        }
      ]
    },
    {
      "cell_type": "code",
      "metadata": {
        "id": "z9_RegRNIS26",
        "colab_type": "code",
        "outputId": "ee14dd1a-a988-4e20-e7c2-63b8b70e9f4c",
        "colab": {
          "base_uri": "https://localhost:8080/",
          "height": 34
        }
      },
      "source": [
        "4 <= 5"
      ],
      "execution_count": 0,
      "outputs": [
        {
          "output_type": "execute_result",
          "data": {
            "text/plain": [
              "True"
            ]
          },
          "metadata": {
            "tags": []
          },
          "execution_count": 134
        }
      ]
    },
    {
      "cell_type": "code",
      "metadata": {
        "id": "RVSAGgbMKwCg",
        "colab_type": "code",
        "outputId": "a4846899-c534-4918-8c67-254c0d2ce4f3",
        "colab": {
          "base_uri": "https://localhost:8080/",
          "height": 34
        }
      },
      "source": [
        "4 != 5 # Diferente de <>"
      ],
      "execution_count": 0,
      "outputs": [
        {
          "output_type": "execute_result",
          "data": {
            "text/plain": [
              "True"
            ]
          },
          "metadata": {
            "tags": []
          },
          "execution_count": 153
        }
      ]
    },
    {
      "cell_type": "code",
      "metadata": {
        "id": "_gg47B1XMNbn",
        "colab_type": "code",
        "outputId": "8671c4a5-b6e4-4115-e09f-1b3aacde37ea",
        "colab": {
          "base_uri": "https://localhost:8080/",
          "height": 34
        }
      },
      "source": [
        "4 == 5"
      ],
      "execution_count": 0,
      "outputs": [
        {
          "output_type": "execute_result",
          "data": {
            "text/plain": [
              "False"
            ]
          },
          "metadata": {
            "tags": []
          },
          "execution_count": 164
        }
      ]
    },
    {
      "cell_type": "markdown",
      "metadata": {
        "id": "5tajffzFIpBK",
        "colab_type": "text"
      },
      "source": [
        "### Logicals"
      ]
    },
    {
      "cell_type": "code",
      "metadata": {
        "id": "6WEPe4fNIqNH",
        "colab_type": "code",
        "outputId": "3966e5be-c4ae-4bb1-af70-99c5cbb98eac",
        "colab": {
          "base_uri": "https://localhost:8080/",
          "height": 34
        }
      },
      "source": [
        "True and True "
      ],
      "execution_count": 0,
      "outputs": [
        {
          "output_type": "execute_result",
          "data": {
            "text/plain": [
              "True"
            ]
          },
          "metadata": {
            "tags": []
          },
          "execution_count": 138
        }
      ]
    },
    {
      "cell_type": "code",
      "metadata": {
        "id": "1xLe06JLI7v7",
        "colab_type": "code",
        "outputId": "142a7d34-7ae5-419b-b2b1-689211e4891e",
        "colab": {
          "base_uri": "https://localhost:8080/",
          "height": 34
        }
      },
      "source": [
        "True or False"
      ],
      "execution_count": 0,
      "outputs": [
        {
          "output_type": "execute_result",
          "data": {
            "text/plain": [
              "True"
            ]
          },
          "metadata": {
            "tags": []
          },
          "execution_count": 143
        }
      ]
    },
    {
      "cell_type": "code",
      "metadata": {
        "id": "JREX8hvAI9WM",
        "colab_type": "code",
        "outputId": "74bf0f88-05f0-426f-ce6e-44837aa67945",
        "colab": {
          "base_uri": "https://localhost:8080/",
          "height": 34
        }
      },
      "source": [
        "not True"
      ],
      "execution_count": 0,
      "outputs": [
        {
          "output_type": "execute_result",
          "data": {
            "text/plain": [
              "False"
            ]
          },
          "metadata": {
            "tags": []
          },
          "execution_count": 144
        }
      ]
    },
    {
      "cell_type": "code",
      "metadata": {
        "id": "er3gkUDGJMa0",
        "colab_type": "code",
        "outputId": "8258feef-50a5-484f-c5d0-f3696361bef3",
        "colab": {
          "base_uri": "https://localhost:8080/",
          "height": 34
        }
      },
      "source": [
        "not False"
      ],
      "execution_count": 0,
      "outputs": [
        {
          "output_type": "execute_result",
          "data": {
            "text/plain": [
              "True"
            ]
          },
          "metadata": {
            "tags": []
          },
          "execution_count": 145
        }
      ]
    },
    {
      "cell_type": "markdown",
      "metadata": {
        "id": "_kjhvWyTJ1fn",
        "colab_type": "text"
      },
      "source": [
        "### Membership"
      ]
    },
    {
      "cell_type": "code",
      "metadata": {
        "id": "a6V5q3GaKmyp",
        "colab_type": "code",
        "outputId": "245076a1-0154-4da9-9d45-b482c27f496b",
        "colab": {
          "base_uri": "https://localhost:8080/",
          "height": 34
        }
      },
      "source": [
        "'e' in 'felipe' # (str)"
      ],
      "execution_count": 0,
      "outputs": [
        {
          "output_type": "execute_result",
          "data": {
            "text/plain": [
              "True"
            ]
          },
          "metadata": {
            "tags": []
          },
          "execution_count": 157
        }
      ]
    },
    {
      "cell_type": "code",
      "metadata": {
        "id": "X7ObM0kZLX9c",
        "colab_type": "code",
        "outputId": "a7b32e49-5501-4073-b7fd-5a19660bdd30",
        "colab": {
          "base_uri": "https://localhost:8080/",
          "height": 34
        }
      },
      "source": [
        "4 in [4, 5] # (list, tuple)"
      ],
      "execution_count": 0,
      "outputs": [
        {
          "output_type": "execute_result",
          "data": {
            "text/plain": [
              "True"
            ]
          },
          "metadata": {
            "tags": []
          },
          "execution_count": 158
        }
      ]
    },
    {
      "cell_type": "code",
      "metadata": {
        "id": "T43X8EuhL1EF",
        "colab_type": "code",
        "outputId": "68e27fb4-bd51-4f9b-a5df-c4a927b52168",
        "colab": {
          "base_uri": "https://localhost:8080/",
          "height": 34
        }
      },
      "source": [
        "4 not in [4, 5]"
      ],
      "execution_count": 0,
      "outputs": [
        {
          "output_type": "execute_result",
          "data": {
            "text/plain": [
              "False"
            ]
          },
          "metadata": {
            "tags": []
          },
          "execution_count": 162
        }
      ]
    },
    {
      "cell_type": "markdown",
      "metadata": {
        "id": "R9e-jAQFLzok",
        "colab_type": "text"
      },
      "source": [
        "### Identity"
      ]
    },
    {
      "cell_type": "code",
      "metadata": {
        "id": "wpt9e6F6MK1x",
        "colab_type": "code",
        "outputId": "606b7ac8-4dde-449f-c6a3-e8c31b8614f6",
        "colab": {
          "base_uri": "https://localhost:8080/",
          "height": 34
        }
      },
      "source": [
        "True == True"
      ],
      "execution_count": 0,
      "outputs": [
        {
          "output_type": "execute_result",
          "data": {
            "text/plain": [
              "True"
            ]
          },
          "metadata": {
            "tags": []
          },
          "execution_count": 169
        }
      ]
    },
    {
      "cell_type": "code",
      "metadata": {
        "id": "WlbzhQ_pM48I",
        "colab_type": "code",
        "outputId": "8c49f43a-d878-4b2e-bfa3-2a00a72df48c",
        "colab": {
          "base_uri": "https://localhost:8080/",
          "height": 34
        }
      },
      "source": [
        "True == 1"
      ],
      "execution_count": 0,
      "outputs": [
        {
          "output_type": "execute_result",
          "data": {
            "text/plain": [
              "True"
            ]
          },
          "metadata": {
            "tags": []
          },
          "execution_count": 170
        }
      ]
    },
    {
      "cell_type": "code",
      "metadata": {
        "id": "B_AXHY8yM9Kq",
        "colab_type": "code",
        "outputId": "fc5ebcfc-a96d-47ac-d010-7caee858248b",
        "colab": {
          "base_uri": "https://localhost:8080/",
          "height": 34
        }
      },
      "source": [
        "True is 1"
      ],
      "execution_count": 0,
      "outputs": [
        {
          "output_type": "execute_result",
          "data": {
            "text/plain": [
              "False"
            ]
          },
          "metadata": {
            "tags": []
          },
          "execution_count": 171
        }
      ]
    },
    {
      "cell_type": "code",
      "metadata": {
        "id": "uYOJOfv5NJWK",
        "colab_type": "code",
        "outputId": "c71e0bde-4532-44e3-8907-31b8296148dc",
        "colab": {
          "base_uri": "https://localhost:8080/",
          "height": 34
        }
      },
      "source": [
        "'felipe' == 'felipe'"
      ],
      "execution_count": 0,
      "outputs": [
        {
          "output_type": "execute_result",
          "data": {
            "text/plain": [
              "True"
            ]
          },
          "metadata": {
            "tags": []
          },
          "execution_count": 177
        }
      ]
    },
    {
      "cell_type": "code",
      "metadata": {
        "id": "BCFcu_P2Ng3l",
        "colab_type": "code",
        "outputId": "c9ebaed1-d098-4067-d3c7-520330782c19",
        "colab": {
          "base_uri": "https://localhost:8080/",
          "height": 34
        }
      },
      "source": [
        "4 == 5"
      ],
      "execution_count": 0,
      "outputs": [
        {
          "output_type": "execute_result",
          "data": {
            "text/plain": [
              "False"
            ]
          },
          "metadata": {
            "tags": []
          },
          "execution_count": 176
        }
      ]
    },
    {
      "cell_type": "markdown",
      "metadata": {
        "id": "rqNq0815Pfxc",
        "colab_type": "text"
      },
      "source": [
        ""
      ]
    },
    {
      "cell_type": "markdown",
      "metadata": {
        "id": "b9iuoTKETLMj",
        "colab_type": "text"
      },
      "source": [
        "# Indexing"
      ]
    },
    {
      "cell_type": "markdown",
      "metadata": {
        "id": "drbE0DMZW9sD",
        "colab_type": "text"
      },
      "source": [
        "![img](https://i1.wp.com/codingmeta.com/wp-content/uploads/2017/09/vikad.png?resize=1100%2C366)"
      ]
    },
    {
      "cell_type": "code",
      "metadata": {
        "id": "-ThE9EZTTMVk",
        "colab_type": "code",
        "colab": {}
      },
      "source": [
        "nomes = ['felipe', 'joao']"
      ],
      "execution_count": 0,
      "outputs": []
    },
    {
      "cell_type": "code",
      "metadata": {
        "id": "XXk5Qq6aUmym",
        "colab_type": "code",
        "outputId": "01eaa0ab-941d-4f3f-c37c-b3963b631a74",
        "colab": {
          "base_uri": "https://localhost:8080/",
          "height": 34
        }
      },
      "source": [
        "nomes[0] # Primeira posição"
      ],
      "execution_count": 0,
      "outputs": [
        {
          "output_type": "execute_result",
          "data": {
            "text/plain": [
              "'felipe'"
            ]
          },
          "metadata": {
            "tags": []
          },
          "execution_count": 208
        }
      ]
    },
    {
      "cell_type": "code",
      "metadata": {
        "id": "brEtrgH4WOci",
        "colab_type": "code",
        "outputId": "feadbbcd-38b8-42d2-8662-917d94d81b66",
        "colab": {
          "base_uri": "https://localhost:8080/",
          "height": 34
        }
      },
      "source": [
        "nomes[-2]"
      ],
      "execution_count": 0,
      "outputs": [
        {
          "output_type": "execute_result",
          "data": {
            "text/plain": [
              "'felipe'"
            ]
          },
          "metadata": {
            "tags": []
          },
          "execution_count": 206
        }
      ]
    },
    {
      "cell_type": "code",
      "metadata": {
        "id": "jVlDqAg1V25Z",
        "colab_type": "code",
        "colab": {}
      },
      "source": [
        "nomes = ('felipe', 'joao')"
      ],
      "execution_count": 0,
      "outputs": []
    },
    {
      "cell_type": "code",
      "metadata": {
        "id": "tJFzYMMLV7zS",
        "colab_type": "code",
        "outputId": "7dfbb4e8-52f7-405e-ac14-1dcb9cce258e",
        "colab": {
          "base_uri": "https://localhost:8080/",
          "height": 164
        }
      },
      "source": [
        "nomes[3]"
      ],
      "execution_count": 0,
      "outputs": [
        {
          "output_type": "error",
          "ename": "IndexError",
          "evalue": "ignored",
          "traceback": [
            "\u001b[0;31m---------------------------------------------------------------------------\u001b[0m",
            "\u001b[0;31mIndexError\u001b[0m                                Traceback (most recent call last)",
            "\u001b[0;32m<ipython-input-200-02ec54baa3be>\u001b[0m in \u001b[0;36m<module>\u001b[0;34m()\u001b[0m\n\u001b[0;32m----> 1\u001b[0;31m \u001b[0mnomes\u001b[0m\u001b[0;34m[\u001b[0m\u001b[0;36m3\u001b[0m\u001b[0;34m]\u001b[0m\u001b[0;34m\u001b[0m\u001b[0;34m\u001b[0m\u001b[0m\n\u001b[0m",
            "\u001b[0;31mIndexError\u001b[0m: tuple index out of range"
          ]
        }
      ]
    },
    {
      "cell_type": "code",
      "metadata": {
        "id": "y010CcVAUsH9",
        "colab_type": "code",
        "colab": {}
      },
      "source": [
        "mapeamento = {\n",
        "    1: 'Brasil',\n",
        "    2: 'Argentina',\n",
        "    3: 'Estados Unidos'\n",
        "}"
      ],
      "execution_count": 0,
      "outputs": []
    },
    {
      "cell_type": "code",
      "metadata": {
        "id": "x079gYGSUxYe",
        "colab_type": "code",
        "outputId": "7b462d17-213d-45d6-bd32-ed226eda3c08",
        "colab": {
          "base_uri": "https://localhost:8080/",
          "height": 164
        }
      },
      "source": [
        "mapeamento[0]"
      ],
      "execution_count": 0,
      "outputs": [
        {
          "output_type": "error",
          "ename": "KeyError",
          "evalue": "ignored",
          "traceback": [
            "\u001b[0;31m---------------------------------------------------------------------------\u001b[0m",
            "\u001b[0;31mKeyError\u001b[0m                                  Traceback (most recent call last)",
            "\u001b[0;32m<ipython-input-188-a3239cf2279d>\u001b[0m in \u001b[0;36m<module>\u001b[0;34m()\u001b[0m\n\u001b[0;32m----> 1\u001b[0;31m \u001b[0mmapeamento\u001b[0m\u001b[0;34m[\u001b[0m\u001b[0;36m0\u001b[0m\u001b[0;34m]\u001b[0m\u001b[0;34m\u001b[0m\u001b[0;34m\u001b[0m\u001b[0m\n\u001b[0m",
            "\u001b[0;31mKeyError\u001b[0m: 0"
          ]
        }
      ]
    },
    {
      "cell_type": "code",
      "metadata": {
        "id": "ix8HtHq8U3Dg",
        "colab_type": "code",
        "colab": {}
      },
      "source": [
        "estados = {\n",
        "    'pr': 'Paraná',\n",
        "    'sp': 'São Paulo'\n",
        "}"
      ],
      "execution_count": 0,
      "outputs": []
    },
    {
      "cell_type": "code",
      "metadata": {
        "id": "wLgwJU0yZ0qk",
        "colab_type": "code",
        "colab": {}
      },
      "source": [
        ""
      ],
      "execution_count": 0,
      "outputs": []
    },
    {
      "cell_type": "code",
      "metadata": {
        "id": "NFg4LGzFZa09",
        "colab_type": "code",
        "colab": {}
      },
      "source": [
        "pessoas = {\n",
        "    'felipe': {\n",
        "        'idade': 25,\n",
        "        'cidade': 'Curitiba',\n",
        "        'notas': [10, 3, 2]\n",
        "    }\n",
        "}"
      ],
      "execution_count": 0,
      "outputs": []
    },
    {
      "cell_type": "code",
      "metadata": {
        "id": "Mdp_v9--ZhvQ",
        "colab_type": "code",
        "outputId": "4dc97c19-5d99-4b68-8b4f-6f0ec17fad99",
        "colab": {
          "base_uri": "https://localhost:8080/",
          "height": 34
        }
      },
      "source": [
        "pessoas['felipe']['notas'][0]"
      ],
      "execution_count": 0,
      "outputs": [
        {
          "output_type": "execute_result",
          "data": {
            "text/plain": [
              "10"
            ]
          },
          "metadata": {
            "tags": []
          },
          "execution_count": 237
        }
      ]
    },
    {
      "cell_type": "code",
      "metadata": {
        "id": "LsMnaF7HZ2ZB",
        "colab_type": "code",
        "outputId": "3244c3fa-660c-4722-90ad-9bb34aa7624d",
        "colab": {
          "base_uri": "https://localhost:8080/",
          "height": 34
        }
      },
      "source": [
        "pessoas['felipe']['cidade'][0]"
      ],
      "execution_count": 0,
      "outputs": [
        {
          "output_type": "execute_result",
          "data": {
            "text/plain": [
              "'C'"
            ]
          },
          "metadata": {
            "tags": []
          },
          "execution_count": 239
        }
      ]
    },
    {
      "cell_type": "code",
      "metadata": {
        "id": "ARkbLnUUVyGo",
        "colab_type": "code",
        "outputId": "7661d81a-b548-4a50-b644-66ffa7d2c97c",
        "colab": {
          "base_uri": "https://localhost:8080/",
          "height": 34
        }
      },
      "source": [
        "estados['pr']"
      ],
      "execution_count": 0,
      "outputs": [
        {
          "output_type": "execute_result",
          "data": {
            "text/plain": [
              "'Paraná'"
            ]
          },
          "metadata": {
            "tags": []
          },
          "execution_count": 197
        }
      ]
    },
    {
      "cell_type": "code",
      "metadata": {
        "id": "QhhnalykXWiC",
        "colab_type": "code",
        "colab": {}
      },
      "source": [
        "nome = 'felipe'"
      ],
      "execution_count": 0,
      "outputs": []
    },
    {
      "cell_type": "code",
      "metadata": {
        "id": "FVGtZi5hXca5",
        "colab_type": "code",
        "outputId": "21fe10b5-ba26-461d-e50c-575ba1a55d9f",
        "colab": {
          "base_uri": "https://localhost:8080/",
          "height": 34
        }
      },
      "source": [
        "nome[-1]"
      ],
      "execution_count": 0,
      "outputs": [
        {
          "output_type": "execute_result",
          "data": {
            "text/plain": [
              "'e'"
            ]
          },
          "metadata": {
            "tags": []
          },
          "execution_count": 211
        }
      ]
    },
    {
      "cell_type": "code",
      "metadata": {
        "id": "xGqyQkxEXk5a",
        "colab_type": "code",
        "colab": {}
      },
      "source": [
        "idade = 20.0"
      ],
      "execution_count": 0,
      "outputs": []
    },
    {
      "cell_type": "code",
      "metadata": {
        "id": "ZBlELac1XmPI",
        "colab_type": "code",
        "outputId": "468583b8-0c0f-472d-ee5f-ccfa0c68da87",
        "colab": {
          "base_uri": "https://localhost:8080/",
          "height": 164
        }
      },
      "source": [
        "idade[0]"
      ],
      "execution_count": 0,
      "outputs": [
        {
          "output_type": "error",
          "ename": "TypeError",
          "evalue": "ignored",
          "traceback": [
            "\u001b[0;31m---------------------------------------------------------------------------\u001b[0m",
            "\u001b[0;31mTypeError\u001b[0m                                 Traceback (most recent call last)",
            "\u001b[0;32m<ipython-input-218-f6b649f15914>\u001b[0m in \u001b[0;36m<module>\u001b[0;34m()\u001b[0m\n\u001b[0;32m----> 1\u001b[0;31m \u001b[0midade\u001b[0m\u001b[0;34m[\u001b[0m\u001b[0;36m0\u001b[0m\u001b[0;34m]\u001b[0m\u001b[0;34m\u001b[0m\u001b[0;34m\u001b[0m\u001b[0m\n\u001b[0m",
            "\u001b[0;31mTypeError\u001b[0m: 'float' object is not subscriptable"
          ]
        }
      ]
    },
    {
      "cell_type": "markdown",
      "metadata": {
        "id": "oWMI0w3sUQJz",
        "colab_type": "text"
      },
      "source": [
        "# Slicing"
      ]
    },
    {
      "cell_type": "code",
      "metadata": {
        "id": "N1rcBlTGURJI",
        "colab_type": "code",
        "colab": {}
      },
      "source": [
        "cidades = ['São Paulo', 'Curitiba', 'Rio de Janeiro']"
      ],
      "execution_count": 0,
      "outputs": []
    },
    {
      "cell_type": "code",
      "metadata": {
        "id": "nQ5NOFyFZASi",
        "colab_type": "code",
        "outputId": "f77778ca-b87b-4c4a-9367-34da198c0229",
        "colab": {
          "base_uri": "https://localhost:8080/",
          "height": 34
        }
      },
      "source": [
        "cidades[1:3]"
      ],
      "execution_count": 0,
      "outputs": [
        {
          "output_type": "execute_result",
          "data": {
            "text/plain": [
              "['Curitiba', 'Rio de Janeiro']"
            ]
          },
          "metadata": {
            "tags": []
          },
          "execution_count": 247
        }
      ]
    },
    {
      "cell_type": "code",
      "metadata": {
        "id": "7UwoMJE1aEIw",
        "colab_type": "code",
        "colab": {}
      },
      "source": [
        "cidade = 'São Paulo'"
      ],
      "execution_count": 0,
      "outputs": []
    },
    {
      "cell_type": "code",
      "metadata": {
        "id": "o3NtVz4AayPe",
        "colab_type": "code",
        "outputId": "ccb04f65-c9a6-4b96-b340-0d580874ee02",
        "colab": {
          "base_uri": "https://localhost:8080/",
          "height": 34
        }
      },
      "source": [
        "cidade[4:9]"
      ],
      "execution_count": 0,
      "outputs": [
        {
          "output_type": "execute_result",
          "data": {
            "text/plain": [
              "'Paulo'"
            ]
          },
          "metadata": {
            "tags": []
          },
          "execution_count": 254
        }
      ]
    },
    {
      "cell_type": "markdown",
      "metadata": {
        "id": "E2pPvviNjHvl",
        "colab_type": "text"
      },
      "source": [
        "# Type Methods"
      ]
    },
    {
      "cell_type": "code",
      "metadata": {
        "id": "xgujTuRZjGuo",
        "colab_type": "code",
        "colab": {}
      },
      "source": [
        "nome = 'felipe'"
      ],
      "execution_count": 0,
      "outputs": []
    },
    {
      "cell_type": "code",
      "metadata": {
        "id": "XbsPD-0-jLr4",
        "colab_type": "code",
        "colab": {}
      },
      "source": [
        "lista = [5, 7, 3]"
      ],
      "execution_count": 0,
      "outputs": []
    },
    {
      "cell_type": "markdown",
      "metadata": {
        "id": "i29SpTWlKs-j",
        "colab_type": "text"
      },
      "source": [
        "# Conditionals (`if`)"
      ]
    },
    {
      "cell_type": "markdown",
      "metadata": {
        "id": "bnm9yNo4LF_L",
        "colab_type": "text"
      },
      "source": [
        "![img](https://files.realpython.com/media/t.78f3bacaa261.png)"
      ]
    },
    {
      "cell_type": "code",
      "metadata": {
        "id": "_xdP5v5sE0ki",
        "colab_type": "code",
        "colab": {}
      },
      "source": [
        "esta_chovendo = True"
      ],
      "execution_count": 0,
      "outputs": []
    },
    {
      "cell_type": "code",
      "metadata": {
        "id": "-FvzteggLVnc",
        "colab_type": "code",
        "outputId": "956dc2f5-6c87-49c5-d3ef-90b41bf8ad1a",
        "colab": {
          "base_uri": "https://localhost:8080/",
          "height": 34
        }
      },
      "source": [
        "if esta_chovendo:\n",
        "  print('Está Chovendo')"
      ],
      "execution_count": 0,
      "outputs": [
        {
          "output_type": "stream",
          "text": [
            "Está Chovendo\n"
          ],
          "name": "stdout"
        }
      ]
    },
    {
      "cell_type": "code",
      "metadata": {
        "id": "BEM8qEmFMa6n",
        "colab_type": "code",
        "colab": {}
      },
      "source": [
        "nota = 40"
      ],
      "execution_count": 0,
      "outputs": []
    },
    {
      "cell_type": "code",
      "metadata": {
        "id": "lsSzO8prMn3a",
        "colab_type": "code",
        "outputId": "d42683d3-f584-4f38-a1a3-d28ef3f9e522",
        "colab": {
          "base_uri": "https://localhost:8080/",
          "height": 34
        }
      },
      "source": [
        "if not nota > 60:\n",
        "  print('Passou')"
      ],
      "execution_count": 0,
      "outputs": [
        {
          "output_type": "stream",
          "text": [
            "Passou\n"
          ],
          "name": "stdout"
        }
      ]
    },
    {
      "cell_type": "code",
      "metadata": {
        "id": "WCKInj-zNHiO",
        "colab_type": "code",
        "colab": {}
      },
      "source": [
        "coisas_pendentes = ['arrumar o quarto', 2, 3]"
      ],
      "execution_count": 0,
      "outputs": []
    },
    {
      "cell_type": "code",
      "metadata": {
        "id": "bnoPw7qYNXx6",
        "colab_type": "code",
        "outputId": "01829b38-f977-48ea-92a6-111645914ea3",
        "colab": {
          "base_uri": "https://localhost:8080/",
          "height": 34
        }
      },
      "source": [
        "if not coisas_pendentes:\n",
        "  print('Estou livre.')\n",
        "else:\n",
        "  if len(coisas_pendentes) == 1:\n",
        "    print('Tenho poucas coisas a fazer.')\n",
        "  else:\n",
        "    if len(coisas_pendentes) > 2:\n",
        "      print('Tenho muitas coisas.')\n",
        "    else:\n",
        "      print('Muitas coisas mesmo.')"
      ],
      "execution_count": 0,
      "outputs": [
        {
          "output_type": "stream",
          "text": [
            "Tenho muitas coisas.\n"
          ],
          "name": "stdout"
        }
      ]
    },
    {
      "cell_type": "code",
      "metadata": {
        "id": "inEAHldtODe5",
        "colab_type": "code",
        "outputId": "56de4939-46dd-48ee-8467-292f98dfdf3d",
        "colab": {
          "base_uri": "https://localhost:8080/",
          "height": 34
        }
      },
      "source": [
        "if not coisas_pendentes and esta_chovendo > 0:\n",
        "  print('Estou livre.')\n",
        "elif len(coisas_pendentes) == 1:\n",
        "  print('Tenho poucas coisas a fazer.')\n",
        "elif len(coisas_pendentes) > 2:\n",
        "  print('Tenho muitas coisas.')\n",
        "else:\n",
        "  print('Muitas coisas mesmo.')"
      ],
      "execution_count": 0,
      "outputs": [
        {
          "output_type": "stream",
          "text": [
            "Tenho muitas coisas.\n"
          ],
          "name": "stdout"
        }
      ]
    },
    {
      "cell_type": "markdown",
      "metadata": {
        "id": "9z3ZmyQGP_dB",
        "colab_type": "text"
      },
      "source": [
        "# Functions"
      ]
    },
    {
      "cell_type": "code",
      "metadata": {
        "id": "0fCG-xBDSn5U",
        "colab_type": "code",
        "colab": {}
      },
      "source": [
        "import math"
      ],
      "execution_count": 0,
      "outputs": []
    },
    {
      "cell_type": "markdown",
      "metadata": {
        "id": "gOBsOHGNQqQA",
        "colab_type": "text"
      },
      "source": [
        "![img](https://cdn1.byjus.com/wp-content/uploads/2016/04/The-Distance-Formula.gif)"
      ]
    },
    {
      "cell_type": "code",
      "metadata": {
        "id": "D5tpUP_YQA3I",
        "colab_type": "code",
        "colab": {}
      },
      "source": [
        "def calcula_distancia(x1, x2):\n",
        "  return x1 - x2"
      ],
      "execution_count": 0,
      "outputs": []
    },
    {
      "cell_type": "code",
      "metadata": {
        "id": "HHEyHelSRbfI",
        "colab_type": "code",
        "outputId": "115d62b5-f4f2-4196-ee5a-89d0fb8d9392",
        "colab": {
          "base_uri": "https://localhost:8080/",
          "height": 34
        }
      },
      "source": [
        "calcula_distancia(5, 10)"
      ],
      "execution_count": 0,
      "outputs": [
        {
          "output_type": "execute_result",
          "data": {
            "text/plain": [
              "-5"
            ]
          },
          "metadata": {
            "tags": []
          },
          "execution_count": 8
        }
      ]
    },
    {
      "cell_type": "code",
      "metadata": {
        "id": "ik6HqTVFR0rL",
        "colab_type": "code",
        "colab": {}
      },
      "source": [
        "def calcula_distancia_entre_pontos(x1, x2, y1, y2):\n",
        "  return math.sqrt((x2 - x1)**2 + (y2 - y1)**2)"
      ],
      "execution_count": 0,
      "outputs": []
    },
    {
      "cell_type": "code",
      "metadata": {
        "id": "MBrD3vXWSRlm",
        "colab_type": "code",
        "outputId": "9a7f83f4-3472-4bd3-c49e-74a888429d80",
        "colab": {
          "base_uri": "https://localhost:8080/",
          "height": 34
        }
      },
      "source": [
        "calcula_distancia_entre_pontos(1, 2, 3, 9)"
      ],
      "execution_count": 0,
      "outputs": [
        {
          "output_type": "execute_result",
          "data": {
            "text/plain": [
              "6.082762530298219"
            ]
          },
          "metadata": {
            "tags": []
          },
          "execution_count": 10
        }
      ]
    },
    {
      "cell_type": "code",
      "metadata": {
        "id": "YsCGhzFwTtMD",
        "colab_type": "code",
        "colab": {}
      },
      "source": [
        "ponto_a = (1, 3)\n",
        "ponto_b = (2, 9)"
      ],
      "execution_count": 0,
      "outputs": []
    },
    {
      "cell_type": "code",
      "metadata": {
        "id": "KeuZzSvUTMCi",
        "colab_type": "code",
        "colab": {}
      },
      "source": [
        "def calcula_distancia_entre_pontos(ponto1, ponto2):\n",
        "  return math.sqrt((ponto1[0] - ponto2[0])**2 + (ponto1[1] - ponto2[1])**2)"
      ],
      "execution_count": 0,
      "outputs": []
    },
    {
      "cell_type": "code",
      "metadata": {
        "id": "bbKFk_yCUBVm",
        "colab_type": "code",
        "outputId": "2584512c-ad45-4f6a-bbe9-97873345eb16",
        "colab": {
          "base_uri": "https://localhost:8080/",
          "height": 34
        }
      },
      "source": [
        "calcula_distancia_entre_pontos(ponto_a, ponto_b)"
      ],
      "execution_count": 0,
      "outputs": [
        {
          "output_type": "execute_result",
          "data": {
            "text/plain": [
              "6.082762530298219"
            ]
          },
          "metadata": {
            "tags": []
          },
          "execution_count": 16
        }
      ]
    },
    {
      "cell_type": "code",
      "metadata": {
        "id": "jv4n6HoGUbYV",
        "colab_type": "code",
        "colab": {}
      },
      "source": [
        "nota_um = 50\n",
        "nota_dois = 40"
      ],
      "execution_count": 0,
      "outputs": []
    },
    {
      "cell_type": "code",
      "metadata": {
        "id": "GOVmd0VAU84b",
        "colab_type": "code",
        "colab": {}
      },
      "source": [
        "def calcula_nota_final(nota_um, nota_dois, nota_tres = None):\n",
        "\n",
        "  media = (nota_um + nota_dois) / 2\n",
        "\n",
        "  if nota_tres is not None:\n",
        "    media_final = (media + nota_tres) / 2\n",
        "    return media_final\n",
        "\n",
        "  return media"
      ],
      "execution_count": 0,
      "outputs": []
    },
    {
      "cell_type": "code",
      "metadata": {
        "id": "5TPfE1TXVLDf",
        "colab_type": "code",
        "outputId": "8c08b548-9a85-4936-d4f7-eae76991cd8e",
        "colab": {
          "base_uri": "https://localhost:8080/",
          "height": 34
        }
      },
      "source": [
        "calcula_nota_final(nota_um,  nota_dois, 60)"
      ],
      "execution_count": 0,
      "outputs": [
        {
          "output_type": "execute_result",
          "data": {
            "text/plain": [
              "52.5"
            ]
          },
          "metadata": {
            "tags": []
          },
          "execution_count": 18
        }
      ]
    },
    {
      "cell_type": "code",
      "metadata": {
        "id": "mPS06lQcXfcl",
        "colab_type": "code",
        "colab": {}
      },
      "source": [
        "def esta_aprovado(nota_um, nota_dois, nota_tres = None):\n",
        "\n",
        "  nota_minima = 50\n",
        "\n",
        "  media_final = calcula_nota_final(nota_um, nota_dois, nota_tres)\n",
        "\n",
        "  if media_final >= nota_minima:\n",
        "    return  True\n",
        "  return False"
      ],
      "execution_count": 0,
      "outputs": []
    },
    {
      "cell_type": "markdown",
      "metadata": {
        "id": "Vb3pbXP1ZtEf",
        "colab_type": "text"
      },
      "source": [
        "# Loops (`for`, `while`)"
      ]
    },
    {
      "cell_type": "code",
      "metadata": {
        "id": "jYS1iFjvdPXg",
        "colab_type": "code",
        "colab": {}
      },
      "source": [
        "import numpy as np"
      ],
      "execution_count": 0,
      "outputs": []
    },
    {
      "cell_type": "code",
      "metadata": {
        "id": "JaRfjldeaMB9",
        "colab_type": "code",
        "outputId": "57f641ef-64c6-472c-9adc-3929820cde67",
        "colab": {
          "base_uri": "https://localhost:8080/",
          "height": 136
        }
      },
      "source": [
        "for i in range(0, len(notas)):\n",
        "  print(notas[i] > 50)"
      ],
      "execution_count": 0,
      "outputs": [
        {
          "output_type": "stream",
          "text": [
            "True\n",
            "False\n",
            "False\n",
            "True\n",
            "False\n",
            "False\n",
            "False\n"
          ],
          "name": "stdout"
        }
      ]
    },
    {
      "cell_type": "code",
      "metadata": {
        "id": "M_KzqOfEcjfg",
        "colab_type": "code",
        "colab": {}
      },
      "source": [
        "notas = [60, 20, 30, 60, 45, 34, 23]"
      ],
      "execution_count": 0,
      "outputs": []
    },
    {
      "cell_type": "code",
      "metadata": {
        "id": "bNIW7qUHbBWH",
        "colab_type": "code",
        "colab": {}
      },
      "source": [
        "nota_maior_media = []\n",
        "for nota in notas:\n",
        "  nota_maior_media.append(nota > 50)"
      ],
      "execution_count": 0,
      "outputs": []
    },
    {
      "cell_type": "code",
      "metadata": {
        "id": "mtSC-jFLcYZd",
        "colab_type": "code",
        "outputId": "ae3447a7-4307-4022-9ce8-b9b0accbb829",
        "colab": {
          "base_uri": "https://localhost:8080/",
          "height": 34
        }
      },
      "source": [
        "nota_maior_media"
      ],
      "execution_count": 0,
      "outputs": [
        {
          "output_type": "execute_result",
          "data": {
            "text/plain": [
              "[True, False, False, True, False, False, False]"
            ]
          },
          "metadata": {
            "tags": []
          },
          "execution_count": 113
        }
      ]
    },
    {
      "cell_type": "markdown",
      "metadata": {
        "id": "leaHsxYZiIca",
        "colab_type": "text"
      },
      "source": [
        "### Iterando com `numpy`"
      ]
    },
    {
      "cell_type": "code",
      "metadata": {
        "id": "X5MM4LGKpG1d",
        "colab_type": "code",
        "colab": {}
      },
      "source": [
        "import numpy as np"
      ],
      "execution_count": 0,
      "outputs": []
    },
    {
      "cell_type": "code",
      "metadata": {
        "id": "IbfDsK-Li9_Z",
        "colab_type": "code",
        "colab": {}
      },
      "source": [
        "number = 10"
      ],
      "execution_count": 0,
      "outputs": []
    },
    {
      "cell_type": "code",
      "metadata": {
        "id": "L5CbMZm_hq2v",
        "colab_type": "code",
        "colab": {}
      },
      "source": [
        "y_real = np.random.rand(number)\n",
        "y_predicted = np.random.rand(number)"
      ],
      "execution_count": 0,
      "outputs": []
    },
    {
      "cell_type": "code",
      "metadata": {
        "id": "fpChI0nCjCAP",
        "colab_type": "code",
        "outputId": "13439f0e-580f-46be-b086-06ef38c6a4b9",
        "colab": {
          "base_uri": "https://localhost:8080/",
          "height": 68
        }
      },
      "source": [
        "%%time\n",
        "erros = []\n",
        "for i in range(len(y_real)):\n",
        "\n",
        "  erro = abs(y_real[i] - y_predicted[i])\n",
        "  erros.append(erro)\n",
        "\n",
        "soma = 0\n",
        "conta = 0\n",
        "for erro in erros:\n",
        "  soma = soma + erro\n",
        "  conta = conta + 1\n",
        "\n",
        "media_erro = soma / conta\n",
        "print(media_erro)"
      ],
      "execution_count": 0,
      "outputs": [
        {
          "output_type": "stream",
          "text": [
            "\n",
            "KeyboardInterrupt\n",
            "\n"
          ],
          "name": "stderr"
        }
      ]
    },
    {
      "cell_type": "code",
      "metadata": {
        "id": "d5OfE3xvkJpp",
        "colab_type": "code",
        "outputId": "c45524a4-2354-4b88-8533-35a67cb64e49",
        "colab": {
          "base_uri": "https://localhost:8080/",
          "height": 68
        }
      },
      "source": [
        "%%time\n",
        "soma = 0\n",
        "for i in range(len(y_real)):\n",
        "\n",
        "  erro = abs(y_real[i] - y_predicted[i])\n",
        "  soma = soma + erro\n",
        "\n",
        "print(soma / len(y_real))"
      ],
      "execution_count": 0,
      "outputs": [
        {
          "output_type": "stream",
          "text": [
            "0.33364168192786625\n",
            "CPU times: user 815 ms, sys: 0 ns, total: 815 ms\n",
            "Wall time: 821 ms\n"
          ],
          "name": "stdout"
        }
      ]
    },
    {
      "cell_type": "code",
      "metadata": {
        "id": "QG0viV_EkrbJ",
        "colab_type": "code",
        "outputId": "be3db383-1467-490e-9bc7-b3dd622f30a6",
        "colab": {
          "base_uri": "https://localhost:8080/",
          "height": 68
        }
      },
      "source": [
        "%%time\n",
        "def absolute_error(y_real, y_predicted):\n",
        "  return abs(y_real - y_predicted)\n",
        "\n",
        "soma = 0\n",
        "for i in range(len(y_real)):\n",
        "  soma = soma + absolute_error(y_real[i], y_predicted[i])\n",
        "\n",
        "print(soma / len(y_real))"
      ],
      "execution_count": 0,
      "outputs": [
        {
          "output_type": "stream",
          "text": [
            "0.33364168192786625\n",
            "CPU times: user 767 ms, sys: 0 ns, total: 767 ms\n",
            "Wall time: 768 ms\n"
          ],
          "name": "stdout"
        }
      ]
    },
    {
      "cell_type": "code",
      "metadata": {
        "id": "rMU_a2v_k7cz",
        "colab_type": "code",
        "outputId": "5f41277c-3a0f-4434-eaa4-6b38f04e1719",
        "colab": {
          "base_uri": "https://localhost:8080/",
          "height": 68
        }
      },
      "source": [
        "%%time\n",
        "np.absolute(y_real - y_predicted).mean()"
      ],
      "execution_count": 0,
      "outputs": [
        {
          "output_type": "stream",
          "text": [
            "CPU times: user 334 ms, sys: 282 ms, total: 616 ms\n",
            "Wall time: 616 ms\n"
          ],
          "name": "stdout"
        },
        {
          "output_type": "execute_result",
          "data": {
            "text/plain": [
              "0.3333555890130774"
            ]
          },
          "metadata": {
            "tags": []
          },
          "execution_count": 5
        }
      ]
    },
    {
      "cell_type": "markdown",
      "metadata": {
        "id": "-MVryX_YtNVy",
        "colab_type": "text"
      },
      "source": [
        "# Functions (Avançado)"
      ]
    },
    {
      "cell_type": "markdown",
      "metadata": {
        "id": "4QglgIC9-8WR",
        "colab_type": "text"
      },
      "source": [
        "#### Parametros default (`parametro = default`)"
      ]
    },
    {
      "cell_type": "code",
      "metadata": {
        "id": "pAizI3lcwHKr",
        "colab_type": "code",
        "colab": {}
      },
      "source": [
        "def nome_completo(nome, sobrenome = None):\n",
        "  print('nome:', nome)\n",
        "  if sobrenome is not None:\n",
        "    print('sobrenome:', sobrenome)"
      ],
      "execution_count": 0,
      "outputs": []
    },
    {
      "cell_type": "code",
      "metadata": {
        "id": "oJ82FuMh70Km",
        "colab_type": "code",
        "outputId": "9e9d3926-5322-4b6c-924a-8fb6d19afeae",
        "colab": {
          "base_uri": "https://localhost:8080/",
          "height": 51
        }
      },
      "source": [
        "nome_completo('Felipe', 'Brandao')"
      ],
      "execution_count": 0,
      "outputs": [
        {
          "output_type": "stream",
          "text": [
            "nome: Felipe\n",
            "sobrenome: Brandao\n"
          ],
          "name": "stdout"
        }
      ]
    },
    {
      "cell_type": "code",
      "metadata": {
        "id": "EyayRWfg9MB0",
        "colab_type": "code",
        "outputId": "a1bd8774-b3b0-44a4-ae57-201102e7ffdd",
        "colab": {
          "base_uri": "https://localhost:8080/",
          "height": 34
        }
      },
      "source": [
        "nome_completo('Felipe')"
      ],
      "execution_count": 0,
      "outputs": [
        {
          "output_type": "stream",
          "text": [
            "nome: Felipe\n"
          ],
          "name": "stdout"
        }
      ]
    },
    {
      "cell_type": "code",
      "metadata": {
        "id": "fZkbHnbT94Au",
        "colab_type": "code",
        "outputId": "edcfa0f7-06af-4ad1-9cd0-ee4b75a86924",
        "colab": {
          "base_uri": "https://localhost:8080/",
          "height": 130
        }
      },
      "source": [
        "# Cuida com a posição dos parâmetros\n",
        "def nome_copleto(nome = None, sobrenome):\n",
        "  print('nome:', nome)\n",
        "  if sobrenome is not None:\n",
        "    print('sobrenome:', sobrenome)"
      ],
      "execution_count": 0,
      "outputs": [
        {
          "output_type": "error",
          "ename": "SyntaxError",
          "evalue": "ignored",
          "traceback": [
            "\u001b[0;36m  File \u001b[0;32m\"<ipython-input-30-17fce97d3980>\"\u001b[0;36m, line \u001b[0;32m1\u001b[0m\n\u001b[0;31m    def nome_copleto(nome = None, sobrenome):\u001b[0m\n\u001b[0m                    ^\u001b[0m\n\u001b[0;31mSyntaxError\u001b[0m\u001b[0;31m:\u001b[0m non-default argument follows default argument\n"
          ]
        }
      ]
    },
    {
      "cell_type": "markdown",
      "metadata": {
        "id": "eFLrYaXx_CzW",
        "colab_type": "text"
      },
      "source": [
        "#### Parâmetros por posição (`position`) vs. nome (`keyword`)"
      ]
    },
    {
      "cell_type": "code",
      "metadata": {
        "id": "ZKgHbOsC-Mv8",
        "colab_type": "code",
        "colab": {}
      },
      "source": [
        "def nome_completo(nome, sobrenome = None):\n",
        "  print('nome:', nome)\n",
        "  if sobrenome is not None:\n",
        "    print('sobrenome:', sobrenome)"
      ],
      "execution_count": 0,
      "outputs": []
    },
    {
      "cell_type": "code",
      "metadata": {
        "id": "JKzqLRiS_Igb",
        "colab_type": "code",
        "outputId": "2db45d20-6c43-4a96-df46-cb02f82d1879",
        "colab": {
          "base_uri": "https://localhost:8080/",
          "height": 51
        }
      },
      "source": [
        "nome_completo('Felipe', 'Brandao')"
      ],
      "execution_count": 0,
      "outputs": [
        {
          "output_type": "stream",
          "text": [
            "nome: Felipe\n",
            "sobrenome: Brandao\n"
          ],
          "name": "stdout"
        }
      ]
    },
    {
      "cell_type": "code",
      "metadata": {
        "id": "vf5HXQqb_ekl",
        "colab_type": "code",
        "outputId": "7ad9b9f8-c693-48de-b68a-ed26e3461c8c",
        "colab": {
          "base_uri": "https://localhost:8080/",
          "height": 51
        }
      },
      "source": [
        "nome_completo('Brandao', 'Felipe')"
      ],
      "execution_count": 0,
      "outputs": [
        {
          "output_type": "stream",
          "text": [
            "nome: Brandao\n",
            "sobrenome: Felipe\n"
          ],
          "name": "stdout"
        }
      ]
    },
    {
      "cell_type": "code",
      "metadata": {
        "id": "ry5Yt3Fj_Jr4",
        "colab_type": "code",
        "outputId": "e1f3f82a-f284-46a3-f0af-8400da42464d",
        "colab": {
          "base_uri": "https://localhost:8080/",
          "height": 51
        }
      },
      "source": [
        "nome_completo(nome='Felipe', sobrenome='Brandao')"
      ],
      "execution_count": 0,
      "outputs": [
        {
          "output_type": "stream",
          "text": [
            "nome: Felipe\n",
            "sobrenome: Brandao\n"
          ],
          "name": "stdout"
        }
      ]
    },
    {
      "cell_type": "code",
      "metadata": {
        "id": "_0TMzcFB_WIf",
        "colab_type": "code",
        "outputId": "2a422daf-ab38-45ad-f9a7-fe289bd5bd2f",
        "colab": {
          "base_uri": "https://localhost:8080/",
          "height": 51
        }
      },
      "source": [
        "nome_completo(sobrenome='Brandao', nome='Felipe')"
      ],
      "execution_count": 0,
      "outputs": [
        {
          "output_type": "stream",
          "text": [
            "nome: Felipe\n",
            "sobrenome: Brandao\n"
          ],
          "name": "stdout"
        }
      ]
    },
    {
      "cell_type": "code",
      "metadata": {
        "id": "SXMKYSHfAFFT",
        "colab_type": "code",
        "colab": {}
      },
      "source": [
        "def nome_completo(nome, segundo_nome = None, sobrenome = None):\n",
        "  print('nome:', nome)\n",
        "  print('segundo_nome:', segundo_nome)\n",
        "  print('sobrenome:', sobrenome)"
      ],
      "execution_count": 0,
      "outputs": []
    },
    {
      "cell_type": "code",
      "metadata": {
        "id": "EB57aAYiAVCt",
        "colab_type": "code",
        "outputId": "83d14899-92da-4524-e227-7981b1c22cea",
        "colab": {
          "base_uri": "https://localhost:8080/",
          "height": 68
        }
      },
      "source": [
        "nome_completo('Felipe', sobrenome='Brandao')"
      ],
      "execution_count": 0,
      "outputs": [
        {
          "output_type": "stream",
          "text": [
            "nome: Felipe\n",
            "segundo_nome: None\n",
            "sobrenome: Brandao\n"
          ],
          "name": "stdout"
        }
      ]
    },
    {
      "cell_type": "markdown",
      "metadata": {
        "id": "1Dl-WyDSBRfX",
        "colab_type": "text"
      },
      "source": [
        "#### `*args` e `**kwargs`"
      ]
    },
    {
      "cell_type": "markdown",
      "metadata": {
        "id": "c6DStkWoRgoO",
        "colab_type": "text"
      },
      "source": [
        "A gente encontra isso em vários bibliotecas de data science. Exemplos:\n",
        "\n",
        "- [`matplotlib.pyplot.plot`](https://matplotlib.org/3.2.1/api/_as_gen/matplotlib.pyplot.plot.html)\n",
        "- [`sklearn.model_selection.train_test_split`](https://scikit-learn.org/stable/modules/generated/sklearn.model_selection.train_test_split.html)\n",
        "- [`sklearn.model_selection.check_cv`](https://scikit-learn.org/stable/modules/generated/sklearn.model_selection.check_cv.html#sklearn.model_selection.check_cv)\n",
        "\n",
        "**Leituras Básicas**\n",
        "- [Python: entendendo o uso de *args e **kwargs em funções e métodos](https://medium.com/rafaeltardivo/python-entendendo-o-uso-de-args-e-kwargs-em-fun%C3%A7%C3%B5es-e-m%C3%A9todos-c8c2810e9dc8)\n",
        "- [Python - O básico de funções](http://devfuria.com.br/python/functions/)\n",
        "\n",
        "**Leituras Avançadas**\n",
        "- [PEP 570 -- Python Positional-Only Parameters](https://www.python.org/dev/peps/pep-0570/)\n",
        "- [PEP 468 -- Preserving the order of **kwargs in a function.](https://www.python.org/dev/peps/pep-0468/)\n",
        "- [PEP 3102 -- Keyword-Only Arguments](https://www.python.org/dev/peps/pep-3102/)"
      ]
    },
    {
      "cell_type": "markdown",
      "metadata": {
        "id": "FikgDEDqVEzA",
        "colab_type": "text"
      },
      "source": [
        "##### Args"
      ]
    },
    {
      "cell_type": "code",
      "metadata": {
        "id": "ehdvRXsNBUfL",
        "colab_type": "code",
        "colab": {}
      },
      "source": [
        "def printa_nomes(*nomes):\n",
        "  print(nomes)"
      ],
      "execution_count": 0,
      "outputs": []
    },
    {
      "cell_type": "code",
      "metadata": {
        "id": "1y3cCUIdSHY4",
        "colab_type": "code",
        "outputId": "3dc21947-c138-4fd8-9ee2-4e038c1c9448",
        "colab": {
          "base_uri": "https://localhost:8080/",
          "height": 34
        }
      },
      "source": [
        "printa_nomes() # Agora a variavel nomes é uma tupla, mesmo que voce não passe nada"
      ],
      "execution_count": 0,
      "outputs": [
        {
          "output_type": "stream",
          "text": [
            "()\n"
          ],
          "name": "stdout"
        }
      ]
    },
    {
      "cell_type": "code",
      "metadata": {
        "id": "TSPrW-7iDANt",
        "colab_type": "code",
        "outputId": "aa853369-82ea-41b0-bb12-f93c8da7e3f4",
        "colab": {
          "base_uri": "https://localhost:8080/",
          "height": 34
        }
      },
      "source": [
        "printa_nomes('felipe', 'brandao')"
      ],
      "execution_count": 0,
      "outputs": [
        {
          "output_type": "stream",
          "text": [
            "('felipe', 'brandao')\n"
          ],
          "name": "stdout"
        }
      ]
    },
    {
      "cell_type": "markdown",
      "metadata": {
        "id": "MPzztjQwVIDc",
        "colab_type": "text"
      },
      "source": [
        "##### Kwargs"
      ]
    },
    {
      "cell_type": "code",
      "metadata": {
        "id": "E2uzJpkSG7di",
        "colab_type": "code",
        "colab": {}
      },
      "source": [
        "def recebe_varios_parametros_por_nome(**parametros):\n",
        "  print(parametros)"
      ],
      "execution_count": 0,
      "outputs": []
    },
    {
      "cell_type": "code",
      "metadata": {
        "id": "OfApBQOGSR92",
        "colab_type": "code",
        "outputId": "f08d7399-2764-420a-e37b-188c219f144b",
        "colab": {
          "base_uri": "https://localhost:8080/",
          "height": 34
        }
      },
      "source": [
        "recebe_varios_parametros_por_nome() # Agora é um dict , mesmo que você não passe nada"
      ],
      "execution_count": 0,
      "outputs": [
        {
          "output_type": "stream",
          "text": [
            "{}\n"
          ],
          "name": "stdout"
        }
      ]
    },
    {
      "cell_type": "code",
      "metadata": {
        "id": "gTjvm4iZSB8m",
        "colab_type": "code",
        "outputId": "ffd4ff8b-86d2-405b-abd0-40b8926f75f1",
        "colab": {
          "base_uri": "https://localhost:8080/",
          "height": 34
        }
      },
      "source": [
        "recebe_varios_parametros_por_nome(nome='felipe', sobrenome='brandao')"
      ],
      "execution_count": 0,
      "outputs": [
        {
          "output_type": "stream",
          "text": [
            "{'nome': 'felipe', 'sobrenome': 'brandao'}\n"
          ],
          "name": "stdout"
        }
      ]
    },
    {
      "cell_type": "markdown",
      "metadata": {
        "id": "xu5LBvH_Jxbx",
        "colab_type": "text"
      },
      "source": [
        "##### Exemplo simulando a função `train_test_split()` do `sklearn`"
      ]
    },
    {
      "cell_type": "code",
      "metadata": {
        "id": "Hq6fP_8lJ6WN",
        "colab_type": "code",
        "colab": {}
      },
      "source": [
        "import numpy as np"
      ],
      "execution_count": 0,
      "outputs": []
    },
    {
      "cell_type": "code",
      "metadata": {
        "id": "3burm3URJuJv",
        "colab_type": "code",
        "colab": {}
      },
      "source": [
        "def train_test_split(*arrays, test_size):\n",
        "  print('test_size:', test_size)\n",
        "  print('variavel com * arrays:', arrays)\n",
        "  for array in arrays:\n",
        "    print('elemento do array:', array)"
      ],
      "execution_count": 0,
      "outputs": []
    },
    {
      "cell_type": "code",
      "metadata": {
        "id": "ifBkooNoJ4LG",
        "colab_type": "code",
        "colab": {}
      },
      "source": [
        "array_um = np.array([3, 4])"
      ],
      "execution_count": 0,
      "outputs": []
    },
    {
      "cell_type": "code",
      "metadata": {
        "id": "9FxLQtjrJ9GQ",
        "colab_type": "code",
        "colab": {}
      },
      "source": [
        "array_dois = np.array([5, 6])"
      ],
      "execution_count": 0,
      "outputs": []
    },
    {
      "cell_type": "code",
      "metadata": {
        "id": "Uff4qf3zJ_OM",
        "colab_type": "code",
        "outputId": "643d45ab-5e6c-4871-e9d2-888e8e44331e",
        "colab": {
          "base_uri": "https://localhost:8080/",
          "height": 85
        }
      },
      "source": [
        "train_test_split(array_um, array_dois, test_size=0.2)"
      ],
      "execution_count": 0,
      "outputs": [
        {
          "output_type": "stream",
          "text": [
            "test_size: 0.2\n",
            "variavel com * arrays: (array([3, 4]), array([5, 6]))\n",
            "elemento do array: [3 4]\n",
            "elemento do array: [5 6]\n"
          ],
          "name": "stdout"
        }
      ]
    },
    {
      "cell_type": "code",
      "metadata": {
        "id": "Qf5pwFudLqEK",
        "colab_type": "code",
        "colab": {}
      },
      "source": [
        "def train_test_split(*arrays, **options):\n",
        "  print('test_size:', options['test_size'])\n",
        "  print('variavel com * arrays:', arrays)\n",
        "  for array in arrays:\n",
        "    print('elemento do array:', array)"
      ],
      "execution_count": 0,
      "outputs": []
    },
    {
      "cell_type": "code",
      "metadata": {
        "id": "yOT5-Sc2MLD9",
        "colab_type": "code",
        "outputId": "2c6d4787-7b60-48d0-c845-368d5d5bcd47",
        "colab": {
          "base_uri": "https://localhost:8080/",
          "height": 85
        }
      },
      "source": [
        "train_test_split(array_um, array_dois, train_size=0.2, test_size=0.3, nome='felipe')"
      ],
      "execution_count": 0,
      "outputs": [
        {
          "output_type": "stream",
          "text": [
            "test_size: 0.3\n",
            "variavel com * arrays: (array([3, 4]), array([5, 6]))\n",
            "elemento do array: [3 4]\n",
            "elemento do array: [5 6]\n"
          ],
          "name": "stdout"
        }
      ]
    },
    {
      "cell_type": "markdown",
      "metadata": {
        "id": "2VkxwfdHWzoA",
        "colab_type": "text"
      },
      "source": [
        "##### `dict.get()` vs. `dict[]`"
      ]
    },
    {
      "cell_type": "code",
      "metadata": {
        "id": "D5m5DsRAW1n4",
        "colab_type": "code",
        "colab": {}
      },
      "source": [
        "estados = {\n",
        "    'pr': 'Paraná',\n",
        "    'sp': 'São Paulo'\n",
        "}"
      ],
      "execution_count": 0,
      "outputs": []
    },
    {
      "cell_type": "code",
      "metadata": {
        "id": "LWy4xwh3W9RF",
        "colab_type": "code",
        "outputId": "bd7c7127-91c9-4a55-e56b-4687c9ce6855",
        "colab": {
          "base_uri": "https://localhost:8080/",
          "height": 164
        }
      },
      "source": [
        "estados['rj']"
      ],
      "execution_count": 0,
      "outputs": [
        {
          "output_type": "error",
          "ename": "KeyError",
          "evalue": "ignored",
          "traceback": [
            "\u001b[0;31m---------------------------------------------------------------------------\u001b[0m",
            "\u001b[0;31mKeyError\u001b[0m                                  Traceback (most recent call last)",
            "\u001b[0;32m<ipython-input-157-7bc0608e7998>\u001b[0m in \u001b[0;36m<module>\u001b[0;34m()\u001b[0m\n\u001b[0;32m----> 1\u001b[0;31m \u001b[0mestados\u001b[0m\u001b[0;34m[\u001b[0m\u001b[0;34m'rj'\u001b[0m\u001b[0;34m]\u001b[0m\u001b[0;34m\u001b[0m\u001b[0;34m\u001b[0m\u001b[0m\n\u001b[0m",
            "\u001b[0;31mKeyError\u001b[0m: 'rj'"
          ]
        }
      ]
    },
    {
      "cell_type": "code",
      "metadata": {
        "id": "2uIngEk0XHlu",
        "colab_type": "code",
        "colab": {}
      },
      "source": [
        "estados.get('rj')"
      ],
      "execution_count": 0,
      "outputs": []
    },
    {
      "cell_type": "markdown",
      "metadata": {
        "id": "rQmIY4KCYRbr",
        "colab_type": "text"
      },
      "source": [
        "#### Functions: First-class Citizen"
      ]
    },
    {
      "cell_type": "code",
      "metadata": {
        "id": "rH5N60-JYS60",
        "colab_type": "code",
        "colab": {}
      },
      "source": [
        "def hello(nome):\n",
        "  print('Hello,', nome)"
      ],
      "execution_count": 0,
      "outputs": []
    },
    {
      "cell_type": "code",
      "metadata": {
        "id": "DR4vAD-UYyec",
        "colab_type": "code",
        "outputId": "84440db1-b817-400f-923e-01376126c4f9",
        "colab": {
          "base_uri": "https://localhost:8080/",
          "height": 34
        }
      },
      "source": [
        "hello('Felipe')"
      ],
      "execution_count": 0,
      "outputs": [
        {
          "output_type": "stream",
          "text": [
            "Hello, Felipe\n"
          ],
          "name": "stdout"
        }
      ]
    },
    {
      "cell_type": "code",
      "metadata": {
        "id": "J7lBjrRKr8gK",
        "colab_type": "code",
        "colab": {}
      },
      "source": [
        "a = hello # Você pode colocar funções em variáveis"
      ],
      "execution_count": 0,
      "outputs": []
    },
    {
      "cell_type": "code",
      "metadata": {
        "id": "-9kdFy6Rr9uY",
        "colab_type": "code",
        "outputId": "9fcba14a-fbf9-4ebf-a626-04433b3e73ca",
        "colab": {
          "base_uri": "https://localhost:8080/",
          "height": 34
        }
      },
      "source": [
        "a('felipe')"
      ],
      "execution_count": 0,
      "outputs": [
        {
          "output_type": "stream",
          "text": [
            "Hello, felipe\n"
          ],
          "name": "stdout"
        }
      ]
    },
    {
      "cell_type": "markdown",
      "metadata": {
        "id": "30xW9W1KsCUi",
        "colab_type": "text"
      },
      "source": [
        "###### Exemplo: Passar funções para funções"
      ]
    },
    {
      "cell_type": "code",
      "metadata": {
        "id": "qsLsJzAEZje5",
        "colab_type": "code",
        "colab": {}
      },
      "source": [
        "def absolute_error(x, y):\n",
        "  return abs(x - y)"
      ],
      "execution_count": 0,
      "outputs": []
    },
    {
      "cell_type": "code",
      "metadata": {
        "id": "ZFoPtWGyZs9z",
        "colab_type": "code",
        "colab": {}
      },
      "source": [
        "def normal_error(x, y):\n",
        "  return x - y"
      ],
      "execution_count": 0,
      "outputs": []
    },
    {
      "cell_type": "code",
      "metadata": {
        "id": "skS4Yg9mZqFt",
        "colab_type": "code",
        "outputId": "595dc312-f132-4a54-aa90-9d7b25ab40b4",
        "colab": {
          "base_uri": "https://localhost:8080/",
          "height": 34
        }
      },
      "source": [
        "normal_error(array_um, array_dois)"
      ],
      "execution_count": 0,
      "outputs": [
        {
          "output_type": "execute_result",
          "data": {
            "text/plain": [
              "array([-2, -2])"
            ]
          },
          "metadata": {
            "tags": []
          },
          "execution_count": 184
        }
      ]
    },
    {
      "cell_type": "code",
      "metadata": {
        "id": "iLIksOjMYs2o",
        "colab_type": "code",
        "colab": {}
      },
      "source": [
        "def calculate_error(x, y, metric):\n",
        "  return metric(x, y)"
      ],
      "execution_count": 0,
      "outputs": []
    },
    {
      "cell_type": "code",
      "metadata": {
        "id": "Vvc7eTbUYtkh",
        "colab_type": "code",
        "outputId": "f885b09a-3e4f-4ba9-85e6-975362cf302e",
        "colab": {
          "base_uri": "https://localhost:8080/",
          "height": 34
        }
      },
      "source": [
        "calculate_error(array_um, array_dois, absolute_error)"
      ],
      "execution_count": 0,
      "outputs": [
        {
          "output_type": "execute_result",
          "data": {
            "text/plain": [
              "array([2, 2])"
            ]
          },
          "metadata": {
            "tags": []
          },
          "execution_count": 190
        }
      ]
    },
    {
      "cell_type": "code",
      "metadata": {
        "id": "qrd5jyaTsJ4I",
        "colab_type": "code",
        "outputId": "53d39871-ad3f-43b3-bceb-e1f5e581f3fd",
        "colab": {
          "base_uri": "https://localhost:8080/",
          "height": 34
        }
      },
      "source": [
        "calculate_error(array_um, array_dois, normal_error)"
      ],
      "execution_count": 0,
      "outputs": [
        {
          "output_type": "execute_result",
          "data": {
            "text/plain": [
              "array([-2, -2])"
            ]
          },
          "metadata": {
            "tags": []
          },
          "execution_count": 271
        }
      ]
    },
    {
      "cell_type": "markdown",
      "metadata": {
        "id": "EcFuAhRQarfa",
        "colab_type": "text"
      },
      "source": [
        "#### `lambda` (funções anonimas)"
      ]
    },
    {
      "cell_type": "markdown",
      "metadata": {
        "id": "B3XyBABhiVGL",
        "colab_type": "text"
      },
      "source": [
        "- [Lambdas with groupbys](https://mode.com/python-tutorial/pandas-groupby-and-python-lambda-functions/)\n",
        "- [Programação Funcional](http://nasemanadaprova.blogspot.com/2015/01/programacao-funcional-python.html)"
      ]
    },
    {
      "cell_type": "code",
      "metadata": {
        "id": "QQTRQTAbaJbM",
        "colab_type": "code",
        "colab": {}
      },
      "source": [
        "a = lambda x: x ** 2 # É a mesma coisa que escrever def a(x): return x ** 2"
      ],
      "execution_count": 0,
      "outputs": []
    },
    {
      "cell_type": "markdown",
      "metadata": {
        "id": "OZp0FRewrgUw",
        "colab_type": "text"
      },
      "source": [
        "###### Exemplo: Mapear um dicionário para uma lista"
      ]
    },
    {
      "cell_type": "code",
      "metadata": {
        "id": "0jOG72oya-GR",
        "colab_type": "code",
        "colab": {}
      },
      "source": [
        "estados = ['pr', 'sp', 'pr', 'PR', 'par']"
      ],
      "execution_count": 0,
      "outputs": []
    },
    {
      "cell_type": "code",
      "metadata": {
        "id": "A8mUWbkcbUhW",
        "colab_type": "code",
        "colab": {}
      },
      "source": [
        "dicionario = {\n",
        "    'pr': 'Paraná',\n",
        "    'sp': 'São Paulo',\n",
        "    'par': 'Paraná',\n",
        "    'PR': 'Paraná'\n",
        "}"
      ],
      "execution_count": 0,
      "outputs": []
    },
    {
      "cell_type": "code",
      "metadata": {
        "id": "9erpJ_uCbdS-",
        "colab_type": "code",
        "colab": {}
      },
      "source": [
        "# Tentantiva 1: usando for loops\n",
        "nova_lista = []\n",
        "for estado in estados:\n",
        "  nova_lista.append(dicionario[estado])\n",
        "nova_lista"
      ],
      "execution_count": 0,
      "outputs": []
    },
    {
      "cell_type": "code",
      "metadata": {
        "id": "pjtXF-jGcG2U",
        "colab_type": "code",
        "outputId": "2a4a8bbf-a960-487c-b8d8-b3e5645fb0aa",
        "colab": {
          "base_uri": "https://localhost:8080/",
          "height": 34
        }
      },
      "source": [
        "# Tentantiva 2: usando lambda e map\n",
        "lista(map(lambda x: dicionario[x], estados))"
      ],
      "execution_count": 0,
      "outputs": [
        {
          "output_type": "execute_result",
          "data": {
            "text/plain": [
              "('Paraná', 'São Paulo', 'Paraná', 'Paraná', 'Paraná')"
            ]
          },
          "metadata": {
            "tags": []
          },
          "execution_count": 210
        }
      ]
    },
    {
      "cell_type": "markdown",
      "metadata": {
        "id": "Qkwm9o5nrtg5",
        "colab_type": "text"
      },
      "source": [
        "###### Exemplo: Aplicando lambdas para filtrar dataframes"
      ]
    },
    {
      "cell_type": "code",
      "metadata": {
        "id": "8OoXNLJUru3a",
        "colab_type": "code",
        "colab": {}
      },
      "source": [
        "import pandas as pd"
      ],
      "execution_count": 0,
      "outputs": []
    },
    {
      "cell_type": "code",
      "metadata": {
        "id": "C-pWBXYzeKHB",
        "colab_type": "code",
        "colab": {}
      },
      "source": [
        "df = pd.read_csv('sample_data/california_housing_test.csv')"
      ],
      "execution_count": 0,
      "outputs": []
    },
    {
      "cell_type": "code",
      "metadata": {
        "id": "NRnvmlIrfWq7",
        "colab_type": "code",
        "outputId": "c4de6c11-6826-46af-9fc5-0e6281ad59c0",
        "colab": {
          "base_uri": "https://localhost:8080/",
          "height": 419
        }
      },
      "source": [
        "df[df['population'].apply(lambda x: x > 600 and x < 1000)]"
      ],
      "execution_count": 0,
      "outputs": [
        {
          "output_type": "execute_result",
          "data": {
            "text/html": [
              "<div>\n",
              "<style scoped>\n",
              "    .dataframe tbody tr th:only-of-type {\n",
              "        vertical-align: middle;\n",
              "    }\n",
              "\n",
              "    .dataframe tbody tr th {\n",
              "        vertical-align: top;\n",
              "    }\n",
              "\n",
              "    .dataframe thead th {\n",
              "        text-align: right;\n",
              "    }\n",
              "</style>\n",
              "<table border=\"1\" class=\"dataframe\">\n",
              "  <thead>\n",
              "    <tr style=\"text-align: right;\">\n",
              "      <th></th>\n",
              "      <th>longitude</th>\n",
              "      <th>latitude</th>\n",
              "      <th>housing_median_age</th>\n",
              "      <th>total_rooms</th>\n",
              "      <th>total_bedrooms</th>\n",
              "      <th>population</th>\n",
              "      <th>households</th>\n",
              "      <th>median_income</th>\n",
              "      <th>median_house_value</th>\n",
              "    </tr>\n",
              "  </thead>\n",
              "  <tbody>\n",
              "    <tr>\n",
              "      <th>1</th>\n",
              "      <td>-118.30</td>\n",
              "      <td>34.26</td>\n",
              "      <td>43.0</td>\n",
              "      <td>1510.0</td>\n",
              "      <td>310.0</td>\n",
              "      <td>809.0</td>\n",
              "      <td>277.0</td>\n",
              "      <td>3.5990</td>\n",
              "      <td>176500.0</td>\n",
              "    </tr>\n",
              "    <tr>\n",
              "      <th>4</th>\n",
              "      <td>-119.67</td>\n",
              "      <td>36.33</td>\n",
              "      <td>19.0</td>\n",
              "      <td>1241.0</td>\n",
              "      <td>244.0</td>\n",
              "      <td>850.0</td>\n",
              "      <td>237.0</td>\n",
              "      <td>2.9375</td>\n",
              "      <td>81700.0</td>\n",
              "    </tr>\n",
              "    <tr>\n",
              "      <th>5</th>\n",
              "      <td>-119.56</td>\n",
              "      <td>36.51</td>\n",
              "      <td>37.0</td>\n",
              "      <td>1018.0</td>\n",
              "      <td>213.0</td>\n",
              "      <td>663.0</td>\n",
              "      <td>204.0</td>\n",
              "      <td>1.6635</td>\n",
              "      <td>67000.0</td>\n",
              "    </tr>\n",
              "    <tr>\n",
              "      <th>6</th>\n",
              "      <td>-121.43</td>\n",
              "      <td>38.63</td>\n",
              "      <td>43.0</td>\n",
              "      <td>1009.0</td>\n",
              "      <td>225.0</td>\n",
              "      <td>604.0</td>\n",
              "      <td>218.0</td>\n",
              "      <td>1.6641</td>\n",
              "      <td>67000.0</td>\n",
              "    </tr>\n",
              "    <tr>\n",
              "      <th>18</th>\n",
              "      <td>-118.88</td>\n",
              "      <td>34.21</td>\n",
              "      <td>26.0</td>\n",
              "      <td>1590.0</td>\n",
              "      <td>196.0</td>\n",
              "      <td>654.0</td>\n",
              "      <td>199.0</td>\n",
              "      <td>6.5851</td>\n",
              "      <td>300000.0</td>\n",
              "    </tr>\n",
              "    <tr>\n",
              "      <th>...</th>\n",
              "      <td>...</td>\n",
              "      <td>...</td>\n",
              "      <td>...</td>\n",
              "      <td>...</td>\n",
              "      <td>...</td>\n",
              "      <td>...</td>\n",
              "      <td>...</td>\n",
              "      <td>...</td>\n",
              "      <td>...</td>\n",
              "    </tr>\n",
              "    <tr>\n",
              "      <th>2986</th>\n",
              "      <td>-118.25</td>\n",
              "      <td>33.93</td>\n",
              "      <td>42.0</td>\n",
              "      <td>819.0</td>\n",
              "      <td>233.0</td>\n",
              "      <td>899.0</td>\n",
              "      <td>228.0</td>\n",
              "      <td>1.1346</td>\n",
              "      <td>85400.0</td>\n",
              "    </tr>\n",
              "    <tr>\n",
              "      <th>2991</th>\n",
              "      <td>-117.17</td>\n",
              "      <td>34.28</td>\n",
              "      <td>13.0</td>\n",
              "      <td>4867.0</td>\n",
              "      <td>718.0</td>\n",
              "      <td>780.0</td>\n",
              "      <td>250.0</td>\n",
              "      <td>7.1997</td>\n",
              "      <td>253800.0</td>\n",
              "    </tr>\n",
              "    <tr>\n",
              "      <th>2993</th>\n",
              "      <td>-117.91</td>\n",
              "      <td>33.60</td>\n",
              "      <td>37.0</td>\n",
              "      <td>2088.0</td>\n",
              "      <td>510.0</td>\n",
              "      <td>673.0</td>\n",
              "      <td>390.0</td>\n",
              "      <td>5.1048</td>\n",
              "      <td>500001.0</td>\n",
              "    </tr>\n",
              "    <tr>\n",
              "      <th>2997</th>\n",
              "      <td>-119.70</td>\n",
              "      <td>36.30</td>\n",
              "      <td>10.0</td>\n",
              "      <td>956.0</td>\n",
              "      <td>201.0</td>\n",
              "      <td>693.0</td>\n",
              "      <td>220.0</td>\n",
              "      <td>2.2895</td>\n",
              "      <td>62000.0</td>\n",
              "    </tr>\n",
              "    <tr>\n",
              "      <th>2999</th>\n",
              "      <td>-119.63</td>\n",
              "      <td>34.42</td>\n",
              "      <td>42.0</td>\n",
              "      <td>1765.0</td>\n",
              "      <td>263.0</td>\n",
              "      <td>753.0</td>\n",
              "      <td>260.0</td>\n",
              "      <td>8.5608</td>\n",
              "      <td>500001.0</td>\n",
              "    </tr>\n",
              "  </tbody>\n",
              "</table>\n",
              "<p>763 rows × 9 columns</p>\n",
              "</div>"
            ],
            "text/plain": [
              "      longitude  latitude  ...  median_income  median_house_value\n",
              "1       -118.30     34.26  ...         3.5990            176500.0\n",
              "4       -119.67     36.33  ...         2.9375             81700.0\n",
              "5       -119.56     36.51  ...         1.6635             67000.0\n",
              "6       -121.43     38.63  ...         1.6641             67000.0\n",
              "18      -118.88     34.21  ...         6.5851            300000.0\n",
              "...         ...       ...  ...            ...                 ...\n",
              "2986    -118.25     33.93  ...         1.1346             85400.0\n",
              "2991    -117.17     34.28  ...         7.1997            253800.0\n",
              "2993    -117.91     33.60  ...         5.1048            500001.0\n",
              "2997    -119.70     36.30  ...         2.2895             62000.0\n",
              "2999    -119.63     34.42  ...         8.5608            500001.0\n",
              "\n",
              "[763 rows x 9 columns]"
            ]
          },
          "metadata": {
            "tags": []
          },
          "execution_count": 241
        }
      ]
    },
    {
      "cell_type": "markdown",
      "metadata": {
        "id": "s3te0D0Zl5LH",
        "colab_type": "text"
      },
      "source": [
        "#### [List Comprehensions](https://pythonacademy.com.br/blog/list-comprehensions-no-python)"
      ]
    },
    {
      "cell_type": "code",
      "metadata": {
        "id": "yPnLDHW2l9uF",
        "colab_type": "code",
        "colab": {}
      },
      "source": [
        "compras = [20.54, 39.7, 3.9, 12.3]"
      ],
      "execution_count": 0,
      "outputs": []
    },
    {
      "cell_type": "code",
      "metadata": {
        "id": "xggpjFQPmAfi",
        "colab_type": "code",
        "colab": {}
      },
      "source": [
        "compras_filtradas = [element for element in compras if element > 12]"
      ],
      "execution_count": 0,
      "outputs": []
    },
    {
      "cell_type": "code",
      "metadata": {
        "id": "M15TV9VLmNqs",
        "colab_type": "code",
        "outputId": "6601ec86-41f5-48af-92cd-ab09ac3fd885",
        "colab": {
          "base_uri": "https://localhost:8080/",
          "height": 34
        }
      },
      "source": [
        "compras_filtradas"
      ],
      "execution_count": 0,
      "outputs": [
        {
          "output_type": "execute_result",
          "data": {
            "text/plain": [
              "[20.54, 39.7, 12.3]"
            ]
          },
          "metadata": {
            "tags": []
          },
          "execution_count": 249
        }
      ]
    }
  ]
}